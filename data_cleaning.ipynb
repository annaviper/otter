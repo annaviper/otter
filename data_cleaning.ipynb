{
 "cells": [
  {
   "cell_type": "code",
   "execution_count": 109,
   "metadata": {
    "tags": []
   },
   "outputs": [],
   "source": [
    "import pandas as pd\n",
    "import plotly.express as px\n",
    "import numpy as np"
   ]
  },
  {
   "cell_type": "markdown",
   "metadata": {},
   "source": [
    "# Data cleaning"
   ]
  },
  {
   "cell_type": "code",
   "execution_count": 110,
   "metadata": {
    "collapsed": false,
    "jupyter": {
     "outputs_hidden": false
    }
   },
   "outputs": [
    {
     "data": {
      "text/html": [
       "<div>\n",
       "<style scoped>\n",
       "    .dataframe tbody tr th:only-of-type {\n",
       "        vertical-align: middle;\n",
       "    }\n",
       "\n",
       "    .dataframe tbody tr th {\n",
       "        vertical-align: top;\n",
       "    }\n",
       "\n",
       "    .dataframe thead th {\n",
       "        text-align: right;\n",
       "    }\n",
       "</style>\n",
       "<table border=\"1\" class=\"dataframe\">\n",
       "  <thead>\n",
       "    <tr style=\"text-align: right;\">\n",
       "      <th></th>\n",
       "      <th>Region</th>\n",
       "      <th>Country</th>\n",
       "      <th>First Closed Won Opp Date</th>\n",
       "      <th>Account ID</th>\n",
       "      <th>CSM Status Stage</th>\n",
       "      <th>Activation Date</th>\n",
       "      <th>Highest Product</th>\n",
       "      <th>Last Product usage date</th>\n",
       "      <th># delivery partners</th>\n",
       "    </tr>\n",
       "  </thead>\n",
       "  <tbody>\n",
       "    <tr>\n",
       "      <th>0</th>\n",
       "      <td>Region A</td>\n",
       "      <td>Country 1</td>\n",
       "      <td>2021-09-22</td>\n",
       "      <td>0012E00002b5a1J</td>\n",
       "      <td>Active</td>\n",
       "      <td>2021-09-28</td>\n",
       "      <td>NaN</td>\n",
       "      <td>2022-01-13 08:44:00</td>\n",
       "      <td>2.0</td>\n",
       "    </tr>\n",
       "    <tr>\n",
       "      <th>1</th>\n",
       "      <td>Region A</td>\n",
       "      <td>Country 8</td>\n",
       "      <td>2021-09-16</td>\n",
       "      <td>0012E00002b5Zvf</td>\n",
       "      <td>Active</td>\n",
       "      <td>2021-10-04</td>\n",
       "      <td>NaN</td>\n",
       "      <td>2022-01-13 13:26:00</td>\n",
       "      <td>4.0</td>\n",
       "    </tr>\n",
       "    <tr>\n",
       "      <th>2</th>\n",
       "      <td>Region C</td>\n",
       "      <td>Country 16</td>\n",
       "      <td>2021-10-01</td>\n",
       "      <td>0012E00002b8A7b</td>\n",
       "      <td>Active</td>\n",
       "      <td>2021-10-01</td>\n",
       "      <td>NaN</td>\n",
       "      <td>NaT</td>\n",
       "      <td>1.0</td>\n",
       "    </tr>\n",
       "    <tr>\n",
       "      <th>3</th>\n",
       "      <td>Region C</td>\n",
       "      <td>Country 16</td>\n",
       "      <td>2021-10-01</td>\n",
       "      <td>0012E00002b8Ail</td>\n",
       "      <td>Active</td>\n",
       "      <td>2021-10-01</td>\n",
       "      <td>NaN</td>\n",
       "      <td>NaT</td>\n",
       "      <td>1.0</td>\n",
       "    </tr>\n",
       "    <tr>\n",
       "      <th>4</th>\n",
       "      <td>Region C</td>\n",
       "      <td>Country 16</td>\n",
       "      <td>2021-10-01</td>\n",
       "      <td>0012E00002b8AMp</td>\n",
       "      <td>Active</td>\n",
       "      <td>2021-10-01</td>\n",
       "      <td>NaN</td>\n",
       "      <td>NaT</td>\n",
       "      <td>1.0</td>\n",
       "    </tr>\n",
       "  </tbody>\n",
       "</table>\n",
       "</div>"
      ],
      "text/plain": [
       "     Region     Country First Closed Won Opp Date       Account ID  \\\n",
       "0  Region A   Country 1                2021-09-22  0012E00002b5a1J   \n",
       "1  Region A   Country 8                2021-09-16  0012E00002b5Zvf   \n",
       "2  Region C  Country 16                2021-10-01  0012E00002b8A7b   \n",
       "3  Region C  Country 16                2021-10-01  0012E00002b8Ail   \n",
       "4  Region C  Country 16                2021-10-01  0012E00002b8AMp   \n",
       "\n",
       "  CSM Status Stage Activation Date Highest Product Last Product usage date  \\\n",
       "0           Active      2021-09-28             NaN     2022-01-13 08:44:00   \n",
       "1           Active      2021-10-04             NaN     2022-01-13 13:26:00   \n",
       "2           Active      2021-10-01             NaN                     NaT   \n",
       "3           Active      2021-10-01             NaN                     NaT   \n",
       "4           Active      2021-10-01             NaN                     NaT   \n",
       "\n",
       "   # delivery partners  \n",
       "0                  2.0  \n",
       "1                  4.0  \n",
       "2                  1.0  \n",
       "3                  1.0  \n",
       "4                  1.0  "
      ]
     },
     "execution_count": 110,
     "metadata": {},
     "output_type": "execute_result"
    }
   ],
   "source": [
    "df = pd.read_excel('data/data.xlsx')\n",
    "df.head()"
   ]
  },
  {
   "cell_type": "markdown",
   "metadata": {
    "jp-MarkdownHeadingCollapsed": true,
    "tags": []
   },
   "source": [
    "## Region column"
   ]
  },
  {
   "cell_type": "code",
   "execution_count": 111,
   "metadata": {},
   "outputs": [
    {
     "data": {
      "text/plain": [
       "{'Region A', 'Region B', 'Region C', 'Region D', 'Unknown'}"
      ]
     },
     "execution_count": 111,
     "metadata": {},
     "output_type": "execute_result"
    }
   ],
   "source": [
    "set(df.Region)"
   ]
  },
  {
   "cell_type": "code",
   "execution_count": 112,
   "metadata": {},
   "outputs": [
    {
     "data": {
      "application/vnd.plotly.v1+json": {
       "config": {
        "plotlyServerURL": "https://plot.ly"
       },
       "data": [
        {
         "alignmentgroup": "True",
         "hovertemplate": "Region=%{x}<br>Account ID=%{y}<extra></extra>",
         "legendgroup": "",
         "marker": {
          "color": "#636efa",
          "pattern": {
           "shape": ""
          }
         },
         "name": "",
         "offsetgroup": "",
         "orientation": "v",
         "showlegend": false,
         "textposition": "auto",
         "type": "bar",
         "x": [
          "Region A",
          "Region B",
          "Region C",
          "Region D",
          "Unknown"
         ],
         "xaxis": "x",
         "y": [
          3939,
          9399,
          21025,
          4239,
          18
         ],
         "yaxis": "y"
        }
       ],
       "layout": {
        "barmode": "relative",
        "legend": {
         "tracegroupgap": 0
        },
        "margin": {
         "t": 60
        },
        "template": {
         "data": {
          "bar": [
           {
            "error_x": {
             "color": "#2a3f5f"
            },
            "error_y": {
             "color": "#2a3f5f"
            },
            "marker": {
             "line": {
              "color": "#E5ECF6",
              "width": 0.5
             },
             "pattern": {
              "fillmode": "overlay",
              "size": 10,
              "solidity": 0.2
             }
            },
            "type": "bar"
           }
          ],
          "barpolar": [
           {
            "marker": {
             "line": {
              "color": "#E5ECF6",
              "width": 0.5
             },
             "pattern": {
              "fillmode": "overlay",
              "size": 10,
              "solidity": 0.2
             }
            },
            "type": "barpolar"
           }
          ],
          "carpet": [
           {
            "aaxis": {
             "endlinecolor": "#2a3f5f",
             "gridcolor": "white",
             "linecolor": "white",
             "minorgridcolor": "white",
             "startlinecolor": "#2a3f5f"
            },
            "baxis": {
             "endlinecolor": "#2a3f5f",
             "gridcolor": "white",
             "linecolor": "white",
             "minorgridcolor": "white",
             "startlinecolor": "#2a3f5f"
            },
            "type": "carpet"
           }
          ],
          "choropleth": [
           {
            "colorbar": {
             "outlinewidth": 0,
             "ticks": ""
            },
            "type": "choropleth"
           }
          ],
          "contour": [
           {
            "colorbar": {
             "outlinewidth": 0,
             "ticks": ""
            },
            "colorscale": [
             [
              0,
              "#0d0887"
             ],
             [
              0.1111111111111111,
              "#46039f"
             ],
             [
              0.2222222222222222,
              "#7201a8"
             ],
             [
              0.3333333333333333,
              "#9c179e"
             ],
             [
              0.4444444444444444,
              "#bd3786"
             ],
             [
              0.5555555555555556,
              "#d8576b"
             ],
             [
              0.6666666666666666,
              "#ed7953"
             ],
             [
              0.7777777777777778,
              "#fb9f3a"
             ],
             [
              0.8888888888888888,
              "#fdca26"
             ],
             [
              1,
              "#f0f921"
             ]
            ],
            "type": "contour"
           }
          ],
          "contourcarpet": [
           {
            "colorbar": {
             "outlinewidth": 0,
             "ticks": ""
            },
            "type": "contourcarpet"
           }
          ],
          "heatmap": [
           {
            "colorbar": {
             "outlinewidth": 0,
             "ticks": ""
            },
            "colorscale": [
             [
              0,
              "#0d0887"
             ],
             [
              0.1111111111111111,
              "#46039f"
             ],
             [
              0.2222222222222222,
              "#7201a8"
             ],
             [
              0.3333333333333333,
              "#9c179e"
             ],
             [
              0.4444444444444444,
              "#bd3786"
             ],
             [
              0.5555555555555556,
              "#d8576b"
             ],
             [
              0.6666666666666666,
              "#ed7953"
             ],
             [
              0.7777777777777778,
              "#fb9f3a"
             ],
             [
              0.8888888888888888,
              "#fdca26"
             ],
             [
              1,
              "#f0f921"
             ]
            ],
            "type": "heatmap"
           }
          ],
          "heatmapgl": [
           {
            "colorbar": {
             "outlinewidth": 0,
             "ticks": ""
            },
            "colorscale": [
             [
              0,
              "#0d0887"
             ],
             [
              0.1111111111111111,
              "#46039f"
             ],
             [
              0.2222222222222222,
              "#7201a8"
             ],
             [
              0.3333333333333333,
              "#9c179e"
             ],
             [
              0.4444444444444444,
              "#bd3786"
             ],
             [
              0.5555555555555556,
              "#d8576b"
             ],
             [
              0.6666666666666666,
              "#ed7953"
             ],
             [
              0.7777777777777778,
              "#fb9f3a"
             ],
             [
              0.8888888888888888,
              "#fdca26"
             ],
             [
              1,
              "#f0f921"
             ]
            ],
            "type": "heatmapgl"
           }
          ],
          "histogram": [
           {
            "marker": {
             "pattern": {
              "fillmode": "overlay",
              "size": 10,
              "solidity": 0.2
             }
            },
            "type": "histogram"
           }
          ],
          "histogram2d": [
           {
            "colorbar": {
             "outlinewidth": 0,
             "ticks": ""
            },
            "colorscale": [
             [
              0,
              "#0d0887"
             ],
             [
              0.1111111111111111,
              "#46039f"
             ],
             [
              0.2222222222222222,
              "#7201a8"
             ],
             [
              0.3333333333333333,
              "#9c179e"
             ],
             [
              0.4444444444444444,
              "#bd3786"
             ],
             [
              0.5555555555555556,
              "#d8576b"
             ],
             [
              0.6666666666666666,
              "#ed7953"
             ],
             [
              0.7777777777777778,
              "#fb9f3a"
             ],
             [
              0.8888888888888888,
              "#fdca26"
             ],
             [
              1,
              "#f0f921"
             ]
            ],
            "type": "histogram2d"
           }
          ],
          "histogram2dcontour": [
           {
            "colorbar": {
             "outlinewidth": 0,
             "ticks": ""
            },
            "colorscale": [
             [
              0,
              "#0d0887"
             ],
             [
              0.1111111111111111,
              "#46039f"
             ],
             [
              0.2222222222222222,
              "#7201a8"
             ],
             [
              0.3333333333333333,
              "#9c179e"
             ],
             [
              0.4444444444444444,
              "#bd3786"
             ],
             [
              0.5555555555555556,
              "#d8576b"
             ],
             [
              0.6666666666666666,
              "#ed7953"
             ],
             [
              0.7777777777777778,
              "#fb9f3a"
             ],
             [
              0.8888888888888888,
              "#fdca26"
             ],
             [
              1,
              "#f0f921"
             ]
            ],
            "type": "histogram2dcontour"
           }
          ],
          "mesh3d": [
           {
            "colorbar": {
             "outlinewidth": 0,
             "ticks": ""
            },
            "type": "mesh3d"
           }
          ],
          "parcoords": [
           {
            "line": {
             "colorbar": {
              "outlinewidth": 0,
              "ticks": ""
             }
            },
            "type": "parcoords"
           }
          ],
          "pie": [
           {
            "automargin": true,
            "type": "pie"
           }
          ],
          "scatter": [
           {
            "fillpattern": {
             "fillmode": "overlay",
             "size": 10,
             "solidity": 0.2
            },
            "type": "scatter"
           }
          ],
          "scatter3d": [
           {
            "line": {
             "colorbar": {
              "outlinewidth": 0,
              "ticks": ""
             }
            },
            "marker": {
             "colorbar": {
              "outlinewidth": 0,
              "ticks": ""
             }
            },
            "type": "scatter3d"
           }
          ],
          "scattercarpet": [
           {
            "marker": {
             "colorbar": {
              "outlinewidth": 0,
              "ticks": ""
             }
            },
            "type": "scattercarpet"
           }
          ],
          "scattergeo": [
           {
            "marker": {
             "colorbar": {
              "outlinewidth": 0,
              "ticks": ""
             }
            },
            "type": "scattergeo"
           }
          ],
          "scattergl": [
           {
            "marker": {
             "colorbar": {
              "outlinewidth": 0,
              "ticks": ""
             }
            },
            "type": "scattergl"
           }
          ],
          "scattermapbox": [
           {
            "marker": {
             "colorbar": {
              "outlinewidth": 0,
              "ticks": ""
             }
            },
            "type": "scattermapbox"
           }
          ],
          "scatterpolar": [
           {
            "marker": {
             "colorbar": {
              "outlinewidth": 0,
              "ticks": ""
             }
            },
            "type": "scatterpolar"
           }
          ],
          "scatterpolargl": [
           {
            "marker": {
             "colorbar": {
              "outlinewidth": 0,
              "ticks": ""
             }
            },
            "type": "scatterpolargl"
           }
          ],
          "scatterternary": [
           {
            "marker": {
             "colorbar": {
              "outlinewidth": 0,
              "ticks": ""
             }
            },
            "type": "scatterternary"
           }
          ],
          "surface": [
           {
            "colorbar": {
             "outlinewidth": 0,
             "ticks": ""
            },
            "colorscale": [
             [
              0,
              "#0d0887"
             ],
             [
              0.1111111111111111,
              "#46039f"
             ],
             [
              0.2222222222222222,
              "#7201a8"
             ],
             [
              0.3333333333333333,
              "#9c179e"
             ],
             [
              0.4444444444444444,
              "#bd3786"
             ],
             [
              0.5555555555555556,
              "#d8576b"
             ],
             [
              0.6666666666666666,
              "#ed7953"
             ],
             [
              0.7777777777777778,
              "#fb9f3a"
             ],
             [
              0.8888888888888888,
              "#fdca26"
             ],
             [
              1,
              "#f0f921"
             ]
            ],
            "type": "surface"
           }
          ],
          "table": [
           {
            "cells": {
             "fill": {
              "color": "#EBF0F8"
             },
             "line": {
              "color": "white"
             }
            },
            "header": {
             "fill": {
              "color": "#C8D4E3"
             },
             "line": {
              "color": "white"
             }
            },
            "type": "table"
           }
          ]
         },
         "layout": {
          "annotationdefaults": {
           "arrowcolor": "#2a3f5f",
           "arrowhead": 0,
           "arrowwidth": 1
          },
          "autotypenumbers": "strict",
          "coloraxis": {
           "colorbar": {
            "outlinewidth": 0,
            "ticks": ""
           }
          },
          "colorscale": {
           "diverging": [
            [
             0,
             "#8e0152"
            ],
            [
             0.1,
             "#c51b7d"
            ],
            [
             0.2,
             "#de77ae"
            ],
            [
             0.3,
             "#f1b6da"
            ],
            [
             0.4,
             "#fde0ef"
            ],
            [
             0.5,
             "#f7f7f7"
            ],
            [
             0.6,
             "#e6f5d0"
            ],
            [
             0.7,
             "#b8e186"
            ],
            [
             0.8,
             "#7fbc41"
            ],
            [
             0.9,
             "#4d9221"
            ],
            [
             1,
             "#276419"
            ]
           ],
           "sequential": [
            [
             0,
             "#0d0887"
            ],
            [
             0.1111111111111111,
             "#46039f"
            ],
            [
             0.2222222222222222,
             "#7201a8"
            ],
            [
             0.3333333333333333,
             "#9c179e"
            ],
            [
             0.4444444444444444,
             "#bd3786"
            ],
            [
             0.5555555555555556,
             "#d8576b"
            ],
            [
             0.6666666666666666,
             "#ed7953"
            ],
            [
             0.7777777777777778,
             "#fb9f3a"
            ],
            [
             0.8888888888888888,
             "#fdca26"
            ],
            [
             1,
             "#f0f921"
            ]
           ],
           "sequentialminus": [
            [
             0,
             "#0d0887"
            ],
            [
             0.1111111111111111,
             "#46039f"
            ],
            [
             0.2222222222222222,
             "#7201a8"
            ],
            [
             0.3333333333333333,
             "#9c179e"
            ],
            [
             0.4444444444444444,
             "#bd3786"
            ],
            [
             0.5555555555555556,
             "#d8576b"
            ],
            [
             0.6666666666666666,
             "#ed7953"
            ],
            [
             0.7777777777777778,
             "#fb9f3a"
            ],
            [
             0.8888888888888888,
             "#fdca26"
            ],
            [
             1,
             "#f0f921"
            ]
           ]
          },
          "colorway": [
           "#636efa",
           "#EF553B",
           "#00cc96",
           "#ab63fa",
           "#FFA15A",
           "#19d3f3",
           "#FF6692",
           "#B6E880",
           "#FF97FF",
           "#FECB52"
          ],
          "font": {
           "color": "#2a3f5f"
          },
          "geo": {
           "bgcolor": "white",
           "lakecolor": "white",
           "landcolor": "#E5ECF6",
           "showlakes": true,
           "showland": true,
           "subunitcolor": "white"
          },
          "hoverlabel": {
           "align": "left"
          },
          "hovermode": "closest",
          "mapbox": {
           "style": "light"
          },
          "paper_bgcolor": "white",
          "plot_bgcolor": "#E5ECF6",
          "polar": {
           "angularaxis": {
            "gridcolor": "white",
            "linecolor": "white",
            "ticks": ""
           },
           "bgcolor": "#E5ECF6",
           "radialaxis": {
            "gridcolor": "white",
            "linecolor": "white",
            "ticks": ""
           }
          },
          "scene": {
           "xaxis": {
            "backgroundcolor": "#E5ECF6",
            "gridcolor": "white",
            "gridwidth": 2,
            "linecolor": "white",
            "showbackground": true,
            "ticks": "",
            "zerolinecolor": "white"
           },
           "yaxis": {
            "backgroundcolor": "#E5ECF6",
            "gridcolor": "white",
            "gridwidth": 2,
            "linecolor": "white",
            "showbackground": true,
            "ticks": "",
            "zerolinecolor": "white"
           },
           "zaxis": {
            "backgroundcolor": "#E5ECF6",
            "gridcolor": "white",
            "gridwidth": 2,
            "linecolor": "white",
            "showbackground": true,
            "ticks": "",
            "zerolinecolor": "white"
           }
          },
          "shapedefaults": {
           "line": {
            "color": "#2a3f5f"
           }
          },
          "ternary": {
           "aaxis": {
            "gridcolor": "white",
            "linecolor": "white",
            "ticks": ""
           },
           "baxis": {
            "gridcolor": "white",
            "linecolor": "white",
            "ticks": ""
           },
           "bgcolor": "#E5ECF6",
           "caxis": {
            "gridcolor": "white",
            "linecolor": "white",
            "ticks": ""
           }
          },
          "title": {
           "x": 0.05
          },
          "xaxis": {
           "automargin": true,
           "gridcolor": "white",
           "linecolor": "white",
           "ticks": "",
           "title": {
            "standoff": 15
           },
           "zerolinecolor": "white",
           "zerolinewidth": 2
          },
          "yaxis": {
           "automargin": true,
           "gridcolor": "white",
           "linecolor": "white",
           "ticks": "",
           "title": {
            "standoff": 15
           },
           "zerolinecolor": "white",
           "zerolinewidth": 2
          }
         }
        },
        "xaxis": {
         "anchor": "y",
         "domain": [
          0,
          1
         ],
         "title": {
          "text": "Region"
         }
        },
        "yaxis": {
         "anchor": "x",
         "domain": [
          0,
          1
         ],
         "title": {
          "text": "Account ID"
         }
        }
       }
      }
     },
     "metadata": {},
     "output_type": "display_data"
    }
   ],
   "source": [
    "px.bar(df.groupby('Region').nunique().reset_index(), x='Region', y='Account ID')"
   ]
  },
  {
   "cell_type": "code",
   "execution_count": 113,
   "metadata": {},
   "outputs": [
    {
     "name": "stdout",
     "output_type": "stream",
     "text": [
      "18\n"
     ]
    },
    {
     "data": {
      "text/html": [
       "<div>\n",
       "<style scoped>\n",
       "    .dataframe tbody tr th:only-of-type {\n",
       "        vertical-align: middle;\n",
       "    }\n",
       "\n",
       "    .dataframe tbody tr th {\n",
       "        vertical-align: top;\n",
       "    }\n",
       "\n",
       "    .dataframe thead th {\n",
       "        text-align: right;\n",
       "    }\n",
       "</style>\n",
       "<table border=\"1\" class=\"dataframe\">\n",
       "  <thead>\n",
       "    <tr style=\"text-align: right;\">\n",
       "      <th></th>\n",
       "      <th>Region</th>\n",
       "      <th>Country</th>\n",
       "      <th>First Closed Won Opp Date</th>\n",
       "      <th>Account ID</th>\n",
       "      <th>CSM Status Stage</th>\n",
       "      <th>Activation Date</th>\n",
       "      <th>Highest Product</th>\n",
       "      <th>Last Product usage date</th>\n",
       "      <th># delivery partners</th>\n",
       "    </tr>\n",
       "  </thead>\n",
       "  <tbody>\n",
       "    <tr>\n",
       "      <th>38439</th>\n",
       "      <td>Unknown</td>\n",
       "      <td>Country 35</td>\n",
       "      <td>2022-01-14</td>\n",
       "      <td>0016R0000378qsz</td>\n",
       "      <td>Onboarding</td>\n",
       "      <td>NaT</td>\n",
       "      <td>NaN</td>\n",
       "      <td>NaT</td>\n",
       "      <td>NaN</td>\n",
       "    </tr>\n",
       "    <tr>\n",
       "      <th>38441</th>\n",
       "      <td>Unknown</td>\n",
       "      <td>Country 35</td>\n",
       "      <td>2022-01-14</td>\n",
       "      <td>0016R0000378qvc</td>\n",
       "      <td>Onboarding</td>\n",
       "      <td>NaT</td>\n",
       "      <td>NaN</td>\n",
       "      <td>NaT</td>\n",
       "      <td>NaN</td>\n",
       "    </tr>\n",
       "    <tr>\n",
       "      <th>38442</th>\n",
       "      <td>Unknown</td>\n",
       "      <td>Country 35</td>\n",
       "      <td>2022-01-14</td>\n",
       "      <td>0016R0000378qvh</td>\n",
       "      <td>Onboarding</td>\n",
       "      <td>NaT</td>\n",
       "      <td>NaN</td>\n",
       "      <td>NaT</td>\n",
       "      <td>NaN</td>\n",
       "    </tr>\n",
       "    <tr>\n",
       "      <th>38444</th>\n",
       "      <td>Unknown</td>\n",
       "      <td>Country 35</td>\n",
       "      <td>2022-01-14</td>\n",
       "      <td>0016R0000378qvm</td>\n",
       "      <td>Onboarding</td>\n",
       "      <td>NaT</td>\n",
       "      <td>NaN</td>\n",
       "      <td>NaT</td>\n",
       "      <td>NaN</td>\n",
       "    </tr>\n",
       "    <tr>\n",
       "      <th>38445</th>\n",
       "      <td>Unknown</td>\n",
       "      <td>Country 35</td>\n",
       "      <td>2022-01-14</td>\n",
       "      <td>0016R0000378qvr</td>\n",
       "      <td>Onboarding</td>\n",
       "      <td>NaT</td>\n",
       "      <td>NaN</td>\n",
       "      <td>NaT</td>\n",
       "      <td>NaN</td>\n",
       "    </tr>\n",
       "  </tbody>\n",
       "</table>\n",
       "</div>"
      ],
      "text/plain": [
       "        Region     Country First Closed Won Opp Date       Account ID  \\\n",
       "38439  Unknown  Country 35                2022-01-14  0016R0000378qsz   \n",
       "38441  Unknown  Country 35                2022-01-14  0016R0000378qvc   \n",
       "38442  Unknown  Country 35                2022-01-14  0016R0000378qvh   \n",
       "38444  Unknown  Country 35                2022-01-14  0016R0000378qvm   \n",
       "38445  Unknown  Country 35                2022-01-14  0016R0000378qvr   \n",
       "\n",
       "      CSM Status Stage Activation Date Highest Product  \\\n",
       "38439       Onboarding             NaT             NaN   \n",
       "38441       Onboarding             NaT             NaN   \n",
       "38442       Onboarding             NaT             NaN   \n",
       "38444       Onboarding             NaT             NaN   \n",
       "38445       Onboarding             NaT             NaN   \n",
       "\n",
       "      Last Product usage date  # delivery partners  \n",
       "38439                     NaT                  NaN  \n",
       "38441                     NaT                  NaN  \n",
       "38442                     NaT                  NaN  \n",
       "38444                     NaT                  NaN  \n",
       "38445                     NaT                  NaN  "
      ]
     },
     "execution_count": 113,
     "metadata": {},
     "output_type": "execute_result"
    }
   ],
   "source": [
    "region_unknown = df[df.Region == 'Unknown']\n",
    "print(len(region_unknown))\n",
    "region_unknown.head()"
   ]
  },
  {
   "cell_type": "markdown",
   "metadata": {
    "jp-MarkdownHeadingCollapsed": true,
    "tags": []
   },
   "source": [
    "## Country"
   ]
  },
  {
   "cell_type": "code",
   "execution_count": 114,
   "metadata": {},
   "outputs": [
    {
     "data": {
      "text/plain": [
       "{'Country 1',\n",
       " 'Country 10',\n",
       " 'Country 11',\n",
       " 'Country 12',\n",
       " 'Country 13',\n",
       " 'Country 14',\n",
       " 'Country 15',\n",
       " 'Country 16',\n",
       " 'Country 17',\n",
       " 'Country 18',\n",
       " 'Country 19',\n",
       " 'Country 2',\n",
       " 'Country 20',\n",
       " 'Country 21',\n",
       " 'Country 22',\n",
       " 'Country 23',\n",
       " 'Country 24',\n",
       " 'Country 25',\n",
       " 'Country 26',\n",
       " 'Country 27',\n",
       " 'Country 28',\n",
       " 'Country 29',\n",
       " 'Country 3',\n",
       " 'Country 30',\n",
       " 'Country 31',\n",
       " 'Country 32',\n",
       " 'Country 33',\n",
       " 'Country 34',\n",
       " 'Country 35',\n",
       " 'Country 4',\n",
       " 'Country 5',\n",
       " 'Country 6',\n",
       " 'Country 7',\n",
       " 'Country 8',\n",
       " 'Country 9'}"
      ]
     },
     "execution_count": 114,
     "metadata": {},
     "output_type": "execute_result"
    }
   ],
   "source": [
    "set(df.Country)"
   ]
  },
  {
   "cell_type": "code",
   "execution_count": 115,
   "metadata": {},
   "outputs": [
    {
     "data": {
      "application/vnd.plotly.v1+json": {
       "config": {
        "plotlyServerURL": "https://plot.ly"
       },
       "data": [
        {
         "alignmentgroup": "True",
         "hovertemplate": "Country=%{x}<br>Account ID=%{y}<extra></extra>",
         "legendgroup": "",
         "marker": {
          "color": "#636efa",
          "pattern": {
           "shape": ""
          }
         },
         "name": "",
         "offsetgroup": "",
         "orientation": "v",
         "showlegend": false,
         "textposition": "auto",
         "type": "bar",
         "x": [
          "Country 16",
          "Country 2",
          "Country 9",
          "Country 3",
          "Country 15",
          "Country 11",
          "Country 1",
          "Country 6",
          "Country 5",
          "Country 13",
          "Country 8",
          "Country 4",
          "Country 17",
          "Country 14",
          "Country 21",
          "Country 20",
          "Country 23",
          "Country 12",
          "Country 7",
          "Country 24",
          "Country 10",
          "Country 19",
          "Country 18",
          "Country 31",
          "Country 29",
          "Country 26",
          "Country 25",
          "Country 27",
          "Country 35",
          "Country 34",
          "Country 22",
          "Country 33",
          "Country 30",
          "Country 28",
          "Country 32"
         ],
         "xaxis": "x",
         "y": [
          19454,
          6749,
          1623,
          1571,
          1180,
          1164,
          1042,
          969,
          924,
          681,
          617,
          413,
          336,
          312,
          306,
          294,
          158,
          149,
          147,
          117,
          100,
          67,
          47,
          29,
          26,
          26,
          22,
          20,
          18,
          17,
          15,
          14,
          8,
          3,
          2
         ],
         "yaxis": "y"
        }
       ],
       "layout": {
        "barmode": "relative",
        "legend": {
         "tracegroupgap": 0
        },
        "margin": {
         "t": 60
        },
        "template": {
         "data": {
          "bar": [
           {
            "error_x": {
             "color": "#2a3f5f"
            },
            "error_y": {
             "color": "#2a3f5f"
            },
            "marker": {
             "line": {
              "color": "#E5ECF6",
              "width": 0.5
             },
             "pattern": {
              "fillmode": "overlay",
              "size": 10,
              "solidity": 0.2
             }
            },
            "type": "bar"
           }
          ],
          "barpolar": [
           {
            "marker": {
             "line": {
              "color": "#E5ECF6",
              "width": 0.5
             },
             "pattern": {
              "fillmode": "overlay",
              "size": 10,
              "solidity": 0.2
             }
            },
            "type": "barpolar"
           }
          ],
          "carpet": [
           {
            "aaxis": {
             "endlinecolor": "#2a3f5f",
             "gridcolor": "white",
             "linecolor": "white",
             "minorgridcolor": "white",
             "startlinecolor": "#2a3f5f"
            },
            "baxis": {
             "endlinecolor": "#2a3f5f",
             "gridcolor": "white",
             "linecolor": "white",
             "minorgridcolor": "white",
             "startlinecolor": "#2a3f5f"
            },
            "type": "carpet"
           }
          ],
          "choropleth": [
           {
            "colorbar": {
             "outlinewidth": 0,
             "ticks": ""
            },
            "type": "choropleth"
           }
          ],
          "contour": [
           {
            "colorbar": {
             "outlinewidth": 0,
             "ticks": ""
            },
            "colorscale": [
             [
              0,
              "#0d0887"
             ],
             [
              0.1111111111111111,
              "#46039f"
             ],
             [
              0.2222222222222222,
              "#7201a8"
             ],
             [
              0.3333333333333333,
              "#9c179e"
             ],
             [
              0.4444444444444444,
              "#bd3786"
             ],
             [
              0.5555555555555556,
              "#d8576b"
             ],
             [
              0.6666666666666666,
              "#ed7953"
             ],
             [
              0.7777777777777778,
              "#fb9f3a"
             ],
             [
              0.8888888888888888,
              "#fdca26"
             ],
             [
              1,
              "#f0f921"
             ]
            ],
            "type": "contour"
           }
          ],
          "contourcarpet": [
           {
            "colorbar": {
             "outlinewidth": 0,
             "ticks": ""
            },
            "type": "contourcarpet"
           }
          ],
          "heatmap": [
           {
            "colorbar": {
             "outlinewidth": 0,
             "ticks": ""
            },
            "colorscale": [
             [
              0,
              "#0d0887"
             ],
             [
              0.1111111111111111,
              "#46039f"
             ],
             [
              0.2222222222222222,
              "#7201a8"
             ],
             [
              0.3333333333333333,
              "#9c179e"
             ],
             [
              0.4444444444444444,
              "#bd3786"
             ],
             [
              0.5555555555555556,
              "#d8576b"
             ],
             [
              0.6666666666666666,
              "#ed7953"
             ],
             [
              0.7777777777777778,
              "#fb9f3a"
             ],
             [
              0.8888888888888888,
              "#fdca26"
             ],
             [
              1,
              "#f0f921"
             ]
            ],
            "type": "heatmap"
           }
          ],
          "heatmapgl": [
           {
            "colorbar": {
             "outlinewidth": 0,
             "ticks": ""
            },
            "colorscale": [
             [
              0,
              "#0d0887"
             ],
             [
              0.1111111111111111,
              "#46039f"
             ],
             [
              0.2222222222222222,
              "#7201a8"
             ],
             [
              0.3333333333333333,
              "#9c179e"
             ],
             [
              0.4444444444444444,
              "#bd3786"
             ],
             [
              0.5555555555555556,
              "#d8576b"
             ],
             [
              0.6666666666666666,
              "#ed7953"
             ],
             [
              0.7777777777777778,
              "#fb9f3a"
             ],
             [
              0.8888888888888888,
              "#fdca26"
             ],
             [
              1,
              "#f0f921"
             ]
            ],
            "type": "heatmapgl"
           }
          ],
          "histogram": [
           {
            "marker": {
             "pattern": {
              "fillmode": "overlay",
              "size": 10,
              "solidity": 0.2
             }
            },
            "type": "histogram"
           }
          ],
          "histogram2d": [
           {
            "colorbar": {
             "outlinewidth": 0,
             "ticks": ""
            },
            "colorscale": [
             [
              0,
              "#0d0887"
             ],
             [
              0.1111111111111111,
              "#46039f"
             ],
             [
              0.2222222222222222,
              "#7201a8"
             ],
             [
              0.3333333333333333,
              "#9c179e"
             ],
             [
              0.4444444444444444,
              "#bd3786"
             ],
             [
              0.5555555555555556,
              "#d8576b"
             ],
             [
              0.6666666666666666,
              "#ed7953"
             ],
             [
              0.7777777777777778,
              "#fb9f3a"
             ],
             [
              0.8888888888888888,
              "#fdca26"
             ],
             [
              1,
              "#f0f921"
             ]
            ],
            "type": "histogram2d"
           }
          ],
          "histogram2dcontour": [
           {
            "colorbar": {
             "outlinewidth": 0,
             "ticks": ""
            },
            "colorscale": [
             [
              0,
              "#0d0887"
             ],
             [
              0.1111111111111111,
              "#46039f"
             ],
             [
              0.2222222222222222,
              "#7201a8"
             ],
             [
              0.3333333333333333,
              "#9c179e"
             ],
             [
              0.4444444444444444,
              "#bd3786"
             ],
             [
              0.5555555555555556,
              "#d8576b"
             ],
             [
              0.6666666666666666,
              "#ed7953"
             ],
             [
              0.7777777777777778,
              "#fb9f3a"
             ],
             [
              0.8888888888888888,
              "#fdca26"
             ],
             [
              1,
              "#f0f921"
             ]
            ],
            "type": "histogram2dcontour"
           }
          ],
          "mesh3d": [
           {
            "colorbar": {
             "outlinewidth": 0,
             "ticks": ""
            },
            "type": "mesh3d"
           }
          ],
          "parcoords": [
           {
            "line": {
             "colorbar": {
              "outlinewidth": 0,
              "ticks": ""
             }
            },
            "type": "parcoords"
           }
          ],
          "pie": [
           {
            "automargin": true,
            "type": "pie"
           }
          ],
          "scatter": [
           {
            "fillpattern": {
             "fillmode": "overlay",
             "size": 10,
             "solidity": 0.2
            },
            "type": "scatter"
           }
          ],
          "scatter3d": [
           {
            "line": {
             "colorbar": {
              "outlinewidth": 0,
              "ticks": ""
             }
            },
            "marker": {
             "colorbar": {
              "outlinewidth": 0,
              "ticks": ""
             }
            },
            "type": "scatter3d"
           }
          ],
          "scattercarpet": [
           {
            "marker": {
             "colorbar": {
              "outlinewidth": 0,
              "ticks": ""
             }
            },
            "type": "scattercarpet"
           }
          ],
          "scattergeo": [
           {
            "marker": {
             "colorbar": {
              "outlinewidth": 0,
              "ticks": ""
             }
            },
            "type": "scattergeo"
           }
          ],
          "scattergl": [
           {
            "marker": {
             "colorbar": {
              "outlinewidth": 0,
              "ticks": ""
             }
            },
            "type": "scattergl"
           }
          ],
          "scattermapbox": [
           {
            "marker": {
             "colorbar": {
              "outlinewidth": 0,
              "ticks": ""
             }
            },
            "type": "scattermapbox"
           }
          ],
          "scatterpolar": [
           {
            "marker": {
             "colorbar": {
              "outlinewidth": 0,
              "ticks": ""
             }
            },
            "type": "scatterpolar"
           }
          ],
          "scatterpolargl": [
           {
            "marker": {
             "colorbar": {
              "outlinewidth": 0,
              "ticks": ""
             }
            },
            "type": "scatterpolargl"
           }
          ],
          "scatterternary": [
           {
            "marker": {
             "colorbar": {
              "outlinewidth": 0,
              "ticks": ""
             }
            },
            "type": "scatterternary"
           }
          ],
          "surface": [
           {
            "colorbar": {
             "outlinewidth": 0,
             "ticks": ""
            },
            "colorscale": [
             [
              0,
              "#0d0887"
             ],
             [
              0.1111111111111111,
              "#46039f"
             ],
             [
              0.2222222222222222,
              "#7201a8"
             ],
             [
              0.3333333333333333,
              "#9c179e"
             ],
             [
              0.4444444444444444,
              "#bd3786"
             ],
             [
              0.5555555555555556,
              "#d8576b"
             ],
             [
              0.6666666666666666,
              "#ed7953"
             ],
             [
              0.7777777777777778,
              "#fb9f3a"
             ],
             [
              0.8888888888888888,
              "#fdca26"
             ],
             [
              1,
              "#f0f921"
             ]
            ],
            "type": "surface"
           }
          ],
          "table": [
           {
            "cells": {
             "fill": {
              "color": "#EBF0F8"
             },
             "line": {
              "color": "white"
             }
            },
            "header": {
             "fill": {
              "color": "#C8D4E3"
             },
             "line": {
              "color": "white"
             }
            },
            "type": "table"
           }
          ]
         },
         "layout": {
          "annotationdefaults": {
           "arrowcolor": "#2a3f5f",
           "arrowhead": 0,
           "arrowwidth": 1
          },
          "autotypenumbers": "strict",
          "coloraxis": {
           "colorbar": {
            "outlinewidth": 0,
            "ticks": ""
           }
          },
          "colorscale": {
           "diverging": [
            [
             0,
             "#8e0152"
            ],
            [
             0.1,
             "#c51b7d"
            ],
            [
             0.2,
             "#de77ae"
            ],
            [
             0.3,
             "#f1b6da"
            ],
            [
             0.4,
             "#fde0ef"
            ],
            [
             0.5,
             "#f7f7f7"
            ],
            [
             0.6,
             "#e6f5d0"
            ],
            [
             0.7,
             "#b8e186"
            ],
            [
             0.8,
             "#7fbc41"
            ],
            [
             0.9,
             "#4d9221"
            ],
            [
             1,
             "#276419"
            ]
           ],
           "sequential": [
            [
             0,
             "#0d0887"
            ],
            [
             0.1111111111111111,
             "#46039f"
            ],
            [
             0.2222222222222222,
             "#7201a8"
            ],
            [
             0.3333333333333333,
             "#9c179e"
            ],
            [
             0.4444444444444444,
             "#bd3786"
            ],
            [
             0.5555555555555556,
             "#d8576b"
            ],
            [
             0.6666666666666666,
             "#ed7953"
            ],
            [
             0.7777777777777778,
             "#fb9f3a"
            ],
            [
             0.8888888888888888,
             "#fdca26"
            ],
            [
             1,
             "#f0f921"
            ]
           ],
           "sequentialminus": [
            [
             0,
             "#0d0887"
            ],
            [
             0.1111111111111111,
             "#46039f"
            ],
            [
             0.2222222222222222,
             "#7201a8"
            ],
            [
             0.3333333333333333,
             "#9c179e"
            ],
            [
             0.4444444444444444,
             "#bd3786"
            ],
            [
             0.5555555555555556,
             "#d8576b"
            ],
            [
             0.6666666666666666,
             "#ed7953"
            ],
            [
             0.7777777777777778,
             "#fb9f3a"
            ],
            [
             0.8888888888888888,
             "#fdca26"
            ],
            [
             1,
             "#f0f921"
            ]
           ]
          },
          "colorway": [
           "#636efa",
           "#EF553B",
           "#00cc96",
           "#ab63fa",
           "#FFA15A",
           "#19d3f3",
           "#FF6692",
           "#B6E880",
           "#FF97FF",
           "#FECB52"
          ],
          "font": {
           "color": "#2a3f5f"
          },
          "geo": {
           "bgcolor": "white",
           "lakecolor": "white",
           "landcolor": "#E5ECF6",
           "showlakes": true,
           "showland": true,
           "subunitcolor": "white"
          },
          "hoverlabel": {
           "align": "left"
          },
          "hovermode": "closest",
          "mapbox": {
           "style": "light"
          },
          "paper_bgcolor": "white",
          "plot_bgcolor": "#E5ECF6",
          "polar": {
           "angularaxis": {
            "gridcolor": "white",
            "linecolor": "white",
            "ticks": ""
           },
           "bgcolor": "#E5ECF6",
           "radialaxis": {
            "gridcolor": "white",
            "linecolor": "white",
            "ticks": ""
           }
          },
          "scene": {
           "xaxis": {
            "backgroundcolor": "#E5ECF6",
            "gridcolor": "white",
            "gridwidth": 2,
            "linecolor": "white",
            "showbackground": true,
            "ticks": "",
            "zerolinecolor": "white"
           },
           "yaxis": {
            "backgroundcolor": "#E5ECF6",
            "gridcolor": "white",
            "gridwidth": 2,
            "linecolor": "white",
            "showbackground": true,
            "ticks": "",
            "zerolinecolor": "white"
           },
           "zaxis": {
            "backgroundcolor": "#E5ECF6",
            "gridcolor": "white",
            "gridwidth": 2,
            "linecolor": "white",
            "showbackground": true,
            "ticks": "",
            "zerolinecolor": "white"
           }
          },
          "shapedefaults": {
           "line": {
            "color": "#2a3f5f"
           }
          },
          "ternary": {
           "aaxis": {
            "gridcolor": "white",
            "linecolor": "white",
            "ticks": ""
           },
           "baxis": {
            "gridcolor": "white",
            "linecolor": "white",
            "ticks": ""
           },
           "bgcolor": "#E5ECF6",
           "caxis": {
            "gridcolor": "white",
            "linecolor": "white",
            "ticks": ""
           }
          },
          "title": {
           "x": 0.05
          },
          "xaxis": {
           "automargin": true,
           "gridcolor": "white",
           "linecolor": "white",
           "ticks": "",
           "title": {
            "standoff": 15
           },
           "zerolinecolor": "white",
           "zerolinewidth": 2
          },
          "yaxis": {
           "automargin": true,
           "gridcolor": "white",
           "linecolor": "white",
           "ticks": "",
           "title": {
            "standoff": 15
           },
           "zerolinecolor": "white",
           "zerolinewidth": 2
          }
         }
        },
        "xaxis": {
         "anchor": "y",
         "domain": [
          0,
          1
         ],
         "title": {
          "text": "Country"
         }
        },
        "yaxis": {
         "anchor": "x",
         "domain": [
          0,
          1
         ],
         "title": {
          "text": "Account ID"
         }
        }
       }
      }
     },
     "metadata": {},
     "output_type": "display_data"
    }
   ],
   "source": [
    "px.bar(df.groupby('Country').nunique().reset_index().sort_values('Account ID', ascending=False), x='Country', y='Account ID')"
   ]
  },
  {
   "cell_type": "markdown",
   "metadata": {
    "jp-MarkdownHeadingCollapsed": true,
    "tags": []
   },
   "source": [
    "## First Closed Won Opp Date"
   ]
  },
  {
   "cell_type": "code",
   "execution_count": 116,
   "metadata": {},
   "outputs": [
    {
     "data": {
      "text/html": [
       "<div>\n",
       "<style scoped>\n",
       "    .dataframe tbody tr th:only-of-type {\n",
       "        vertical-align: middle;\n",
       "    }\n",
       "\n",
       "    .dataframe tbody tr th {\n",
       "        vertical-align: top;\n",
       "    }\n",
       "\n",
       "    .dataframe thead th {\n",
       "        text-align: right;\n",
       "    }\n",
       "</style>\n",
       "<table border=\"1\" class=\"dataframe\">\n",
       "  <thead>\n",
       "    <tr style=\"text-align: right;\">\n",
       "      <th></th>\n",
       "      <th>Region</th>\n",
       "      <th>Country</th>\n",
       "      <th>First Closed Won Opp Date</th>\n",
       "      <th>Account ID</th>\n",
       "      <th>CSM Status Stage</th>\n",
       "      <th>Activation Date</th>\n",
       "      <th>Highest Product</th>\n",
       "      <th>Last Product usage date</th>\n",
       "      <th># delivery partners</th>\n",
       "    </tr>\n",
       "  </thead>\n",
       "  <tbody>\n",
       "    <tr>\n",
       "      <th>38615</th>\n",
       "      <td>Region C</td>\n",
       "      <td>Country 16</td>\n",
       "      <td>2022-01-14</td>\n",
       "      <td>0016R0000378sYO</td>\n",
       "      <td>Onboarding</td>\n",
       "      <td>NaT</td>\n",
       "      <td>NaN</td>\n",
       "      <td>NaT</td>\n",
       "      <td>NaN</td>\n",
       "    </tr>\n",
       "    <tr>\n",
       "      <th>38616</th>\n",
       "      <td>Region C</td>\n",
       "      <td>Country 16</td>\n",
       "      <td>2022-01-14</td>\n",
       "      <td>0016R0000378sYT</td>\n",
       "      <td>Onboarding</td>\n",
       "      <td>NaT</td>\n",
       "      <td>NaN</td>\n",
       "      <td>NaT</td>\n",
       "      <td>NaN</td>\n",
       "    </tr>\n",
       "    <tr>\n",
       "      <th>38617</th>\n",
       "      <td>Region C</td>\n",
       "      <td>Country 16</td>\n",
       "      <td>2022-01-14</td>\n",
       "      <td>0016R0000378sYY</td>\n",
       "      <td>Onboarding</td>\n",
       "      <td>NaT</td>\n",
       "      <td>NaN</td>\n",
       "      <td>NaT</td>\n",
       "      <td>NaN</td>\n",
       "    </tr>\n",
       "    <tr>\n",
       "      <th>38618</th>\n",
       "      <td>Region C</td>\n",
       "      <td>Country 16</td>\n",
       "      <td>2022-01-15</td>\n",
       "      <td>0016R0000378vuy</td>\n",
       "      <td>Onboarding</td>\n",
       "      <td>NaT</td>\n",
       "      <td>NaN</td>\n",
       "      <td>NaT</td>\n",
       "      <td>NaN</td>\n",
       "    </tr>\n",
       "    <tr>\n",
       "      <th>38619</th>\n",
       "      <td>Region C</td>\n",
       "      <td>Country 16</td>\n",
       "      <td>2022-01-15</td>\n",
       "      <td>0016R0000378vvm</td>\n",
       "      <td>Onboarding</td>\n",
       "      <td>NaT</td>\n",
       "      <td>NaN</td>\n",
       "      <td>NaT</td>\n",
       "      <td>NaN</td>\n",
       "    </tr>\n",
       "  </tbody>\n",
       "</table>\n",
       "</div>"
      ],
      "text/plain": [
       "         Region     Country First Closed Won Opp Date       Account ID  \\\n",
       "38615  Region C  Country 16                2022-01-14  0016R0000378sYO   \n",
       "38616  Region C  Country 16                2022-01-14  0016R0000378sYT   \n",
       "38617  Region C  Country 16                2022-01-14  0016R0000378sYY   \n",
       "38618  Region C  Country 16                2022-01-15  0016R0000378vuy   \n",
       "38619  Region C  Country 16                2022-01-15  0016R0000378vvm   \n",
       "\n",
       "      CSM Status Stage Activation Date Highest Product  \\\n",
       "38615       Onboarding             NaT             NaN   \n",
       "38616       Onboarding             NaT             NaN   \n",
       "38617       Onboarding             NaT             NaN   \n",
       "38618       Onboarding             NaT             NaN   \n",
       "38619       Onboarding             NaT             NaN   \n",
       "\n",
       "      Last Product usage date  # delivery partners  \n",
       "38615                     NaT                  NaN  \n",
       "38616                     NaT                  NaN  \n",
       "38617                     NaT                  NaN  \n",
       "38618                     NaT                  NaN  \n",
       "38619                     NaT                  NaN  "
      ]
     },
     "execution_count": 116,
     "metadata": {},
     "output_type": "execute_result"
    }
   ],
   "source": [
    "df.tail()"
   ]
  },
  {
   "cell_type": "code",
   "execution_count": 117,
   "metadata": {},
   "outputs": [
    {
     "data": {
      "text/plain": [
       "{Timestamp('2021-09-01 00:00:00'),\n",
       " Timestamp('2021-09-02 00:00:00'),\n",
       " Timestamp('2021-09-03 00:00:00'),\n",
       " Timestamp('2021-09-04 00:00:00'),\n",
       " Timestamp('2021-09-05 00:00:00'),\n",
       " Timestamp('2021-09-06 00:00:00'),\n",
       " Timestamp('2021-09-07 00:00:00'),\n",
       " Timestamp('2021-09-08 00:00:00'),\n",
       " Timestamp('2021-09-09 00:00:00'),\n",
       " Timestamp('2021-09-10 00:00:00'),\n",
       " Timestamp('2021-09-11 00:00:00'),\n",
       " Timestamp('2021-09-12 00:00:00'),\n",
       " Timestamp('2021-09-13 00:00:00'),\n",
       " Timestamp('2021-09-14 00:00:00'),\n",
       " Timestamp('2021-09-15 00:00:00'),\n",
       " Timestamp('2021-09-16 00:00:00'),\n",
       " Timestamp('2021-09-17 00:00:00'),\n",
       " Timestamp('2021-09-18 00:00:00'),\n",
       " Timestamp('2021-09-19 00:00:00'),\n",
       " Timestamp('2021-09-20 00:00:00'),\n",
       " Timestamp('2021-09-21 00:00:00'),\n",
       " Timestamp('2021-09-22 00:00:00'),\n",
       " Timestamp('2021-09-23 00:00:00'),\n",
       " Timestamp('2021-09-24 00:00:00'),\n",
       " Timestamp('2021-09-25 00:00:00'),\n",
       " Timestamp('2021-09-26 00:00:00'),\n",
       " Timestamp('2021-09-27 00:00:00'),\n",
       " Timestamp('2021-09-28 00:00:00'),\n",
       " Timestamp('2021-09-29 00:00:00'),\n",
       " Timestamp('2021-09-30 00:00:00'),\n",
       " Timestamp('2021-10-01 00:00:00'),\n",
       " Timestamp('2021-10-02 00:00:00'),\n",
       " Timestamp('2021-10-03 00:00:00'),\n",
       " Timestamp('2021-10-04 00:00:00'),\n",
       " Timestamp('2021-10-05 00:00:00'),\n",
       " Timestamp('2021-10-06 00:00:00'),\n",
       " Timestamp('2021-10-07 00:00:00'),\n",
       " Timestamp('2021-10-08 00:00:00'),\n",
       " Timestamp('2021-10-09 00:00:00'),\n",
       " Timestamp('2021-10-10 00:00:00'),\n",
       " Timestamp('2021-10-11 00:00:00'),\n",
       " Timestamp('2021-10-12 00:00:00'),\n",
       " Timestamp('2021-10-13 00:00:00'),\n",
       " Timestamp('2021-10-14 00:00:00'),\n",
       " Timestamp('2021-10-15 00:00:00'),\n",
       " Timestamp('2021-10-16 00:00:00'),\n",
       " Timestamp('2021-10-17 00:00:00'),\n",
       " Timestamp('2021-10-18 00:00:00'),\n",
       " Timestamp('2021-10-19 00:00:00'),\n",
       " Timestamp('2021-10-20 00:00:00'),\n",
       " Timestamp('2021-10-21 00:00:00'),\n",
       " Timestamp('2021-10-22 00:00:00'),\n",
       " Timestamp('2021-10-23 00:00:00'),\n",
       " Timestamp('2021-10-24 00:00:00'),\n",
       " Timestamp('2021-10-25 00:00:00'),\n",
       " Timestamp('2021-10-26 00:00:00'),\n",
       " Timestamp('2021-10-27 00:00:00'),\n",
       " Timestamp('2021-10-28 00:00:00'),\n",
       " Timestamp('2021-10-29 00:00:00'),\n",
       " Timestamp('2021-10-30 00:00:00'),\n",
       " Timestamp('2021-10-31 00:00:00'),\n",
       " Timestamp('2021-11-01 00:00:00'),\n",
       " Timestamp('2021-11-02 00:00:00'),\n",
       " Timestamp('2021-11-03 00:00:00'),\n",
       " Timestamp('2021-11-04 00:00:00'),\n",
       " Timestamp('2021-11-05 00:00:00'),\n",
       " Timestamp('2021-11-06 00:00:00'),\n",
       " Timestamp('2021-11-07 00:00:00'),\n",
       " Timestamp('2021-11-08 00:00:00'),\n",
       " Timestamp('2021-11-09 00:00:00'),\n",
       " Timestamp('2021-11-10 00:00:00'),\n",
       " Timestamp('2021-11-11 00:00:00'),\n",
       " Timestamp('2021-11-12 00:00:00'),\n",
       " Timestamp('2021-11-13 00:00:00'),\n",
       " Timestamp('2021-11-14 00:00:00'),\n",
       " Timestamp('2021-11-15 00:00:00'),\n",
       " Timestamp('2021-11-16 00:00:00'),\n",
       " Timestamp('2021-11-17 00:00:00'),\n",
       " Timestamp('2021-11-18 00:00:00'),\n",
       " Timestamp('2021-11-19 00:00:00'),\n",
       " Timestamp('2021-11-20 00:00:00'),\n",
       " Timestamp('2021-11-21 00:00:00'),\n",
       " Timestamp('2021-11-22 00:00:00'),\n",
       " Timestamp('2021-11-23 00:00:00'),\n",
       " Timestamp('2021-11-24 00:00:00'),\n",
       " Timestamp('2021-11-25 00:00:00'),\n",
       " Timestamp('2021-11-26 00:00:00'),\n",
       " Timestamp('2021-11-27 00:00:00'),\n",
       " Timestamp('2021-11-28 00:00:00'),\n",
       " Timestamp('2021-11-29 00:00:00'),\n",
       " Timestamp('2021-11-30 00:00:00'),\n",
       " Timestamp('2021-12-01 00:00:00'),\n",
       " Timestamp('2021-12-02 00:00:00'),\n",
       " Timestamp('2021-12-03 00:00:00'),\n",
       " Timestamp('2021-12-04 00:00:00'),\n",
       " Timestamp('2021-12-05 00:00:00'),\n",
       " Timestamp('2021-12-06 00:00:00'),\n",
       " Timestamp('2021-12-07 00:00:00'),\n",
       " Timestamp('2021-12-08 00:00:00'),\n",
       " Timestamp('2021-12-09 00:00:00'),\n",
       " Timestamp('2021-12-10 00:00:00'),\n",
       " Timestamp('2021-12-11 00:00:00'),\n",
       " Timestamp('2021-12-12 00:00:00'),\n",
       " Timestamp('2021-12-13 00:00:00'),\n",
       " Timestamp('2021-12-14 00:00:00'),\n",
       " Timestamp('2021-12-15 00:00:00'),\n",
       " Timestamp('2021-12-16 00:00:00'),\n",
       " Timestamp('2021-12-17 00:00:00'),\n",
       " Timestamp('2021-12-18 00:00:00'),\n",
       " Timestamp('2021-12-19 00:00:00'),\n",
       " Timestamp('2021-12-20 00:00:00'),\n",
       " Timestamp('2021-12-21 00:00:00'),\n",
       " Timestamp('2021-12-22 00:00:00'),\n",
       " Timestamp('2021-12-23 00:00:00'),\n",
       " Timestamp('2021-12-24 00:00:00'),\n",
       " Timestamp('2021-12-25 00:00:00'),\n",
       " Timestamp('2021-12-26 00:00:00'),\n",
       " Timestamp('2021-12-27 00:00:00'),\n",
       " Timestamp('2021-12-28 00:00:00'),\n",
       " Timestamp('2021-12-29 00:00:00'),\n",
       " Timestamp('2021-12-30 00:00:00'),\n",
       " Timestamp('2021-12-31 00:00:00'),\n",
       " Timestamp('2022-01-01 00:00:00'),\n",
       " Timestamp('2022-01-02 00:00:00'),\n",
       " Timestamp('2022-01-03 00:00:00'),\n",
       " Timestamp('2022-01-04 00:00:00'),\n",
       " Timestamp('2022-01-05 00:00:00'),\n",
       " Timestamp('2022-01-06 00:00:00'),\n",
       " Timestamp('2022-01-07 00:00:00'),\n",
       " Timestamp('2022-01-08 00:00:00'),\n",
       " Timestamp('2022-01-09 00:00:00'),\n",
       " Timestamp('2022-01-10 00:00:00'),\n",
       " Timestamp('2022-01-11 00:00:00'),\n",
       " Timestamp('2022-01-12 00:00:00'),\n",
       " Timestamp('2022-01-13 00:00:00'),\n",
       " Timestamp('2022-01-14 00:00:00'),\n",
       " Timestamp('2022-01-15 00:00:00')}"
      ]
     },
     "execution_count": 117,
     "metadata": {},
     "output_type": "execute_result"
    }
   ],
   "source": [
    "set(df['First Closed Won Opp Date'])"
   ]
  },
  {
   "cell_type": "markdown",
   "metadata": {
    "jp-MarkdownHeadingCollapsed": true,
    "tags": []
   },
   "source": [
    "## Account ID"
   ]
  },
  {
   "cell_type": "code",
   "execution_count": 118,
   "metadata": {},
   "outputs": [
    {
     "data": {
      "text/html": [
       "<div>\n",
       "<style scoped>\n",
       "    .dataframe tbody tr th:only-of-type {\n",
       "        vertical-align: middle;\n",
       "    }\n",
       "\n",
       "    .dataframe tbody tr th {\n",
       "        vertical-align: top;\n",
       "    }\n",
       "\n",
       "    .dataframe thead th {\n",
       "        text-align: right;\n",
       "    }\n",
       "</style>\n",
       "<table border=\"1\" class=\"dataframe\">\n",
       "  <thead>\n",
       "    <tr style=\"text-align: right;\">\n",
       "      <th></th>\n",
       "      <th>Region</th>\n",
       "      <th>Country</th>\n",
       "      <th>First Closed Won Opp Date</th>\n",
       "      <th>Account ID</th>\n",
       "      <th>CSM Status Stage</th>\n",
       "      <th>Activation Date</th>\n",
       "      <th>Highest Product</th>\n",
       "      <th>Last Product usage date</th>\n",
       "      <th># delivery partners</th>\n",
       "    </tr>\n",
       "  </thead>\n",
       "  <tbody>\n",
       "  </tbody>\n",
       "</table>\n",
       "</div>"
      ],
      "text/plain": [
       "Empty DataFrame\n",
       "Columns: [Region, Country, First Closed Won Opp Date, Account ID, CSM Status Stage, Activation Date, Highest Product, Last Product usage date, # delivery partners]\n",
       "Index: []"
      ]
     },
     "execution_count": 118,
     "metadata": {},
     "output_type": "execute_result"
    }
   ],
   "source": [
    "df[df['Account ID'].isna()]"
   ]
  },
  {
   "cell_type": "markdown",
   "metadata": {
    "jp-MarkdownHeadingCollapsed": true,
    "tags": []
   },
   "source": [
    "## CSM Status Stage"
   ]
  },
  {
   "cell_type": "code",
   "execution_count": 119,
   "metadata": {},
   "outputs": [
    {
     "data": {
      "text/plain": [
       "{'Active',\n",
       " 'Active Opportunity',\n",
       " 'Blocked',\n",
       " 'Churned',\n",
       " 'Dead Opportunity',\n",
       " 'Onboarding',\n",
       " 'Paused',\n",
       " nan}"
      ]
     },
     "execution_count": 119,
     "metadata": {},
     "output_type": "execute_result"
    }
   ],
   "source": [
    "set(df['CSM Status Stage'])"
   ]
  },
  {
   "cell_type": "code",
   "execution_count": 120,
   "metadata": {},
   "outputs": [
    {
     "data": {
      "text/html": [
       "<div>\n",
       "<style scoped>\n",
       "    .dataframe tbody tr th:only-of-type {\n",
       "        vertical-align: middle;\n",
       "    }\n",
       "\n",
       "    .dataframe tbody tr th {\n",
       "        vertical-align: top;\n",
       "    }\n",
       "\n",
       "    .dataframe thead th {\n",
       "        text-align: right;\n",
       "    }\n",
       "</style>\n",
       "<table border=\"1\" class=\"dataframe\">\n",
       "  <thead>\n",
       "    <tr style=\"text-align: right;\">\n",
       "      <th></th>\n",
       "      <th>Region</th>\n",
       "      <th>Country</th>\n",
       "      <th>First Closed Won Opp Date</th>\n",
       "      <th>Account ID</th>\n",
       "      <th>CSM Status Stage</th>\n",
       "      <th>Activation Date</th>\n",
       "      <th>Highest Product</th>\n",
       "      <th>Last Product usage date</th>\n",
       "      <th># delivery partners</th>\n",
       "    </tr>\n",
       "  </thead>\n",
       "  <tbody>\n",
       "    <tr>\n",
       "      <th>838</th>\n",
       "      <td>Region C</td>\n",
       "      <td>Country 16</td>\n",
       "      <td>2021-09-03</td>\n",
       "      <td>0012E00002bdpC9</td>\n",
       "      <td>NaN</td>\n",
       "      <td>NaT</td>\n",
       "      <td>NaN</td>\n",
       "      <td>2022-01-14 08:35:00</td>\n",
       "      <td>1.0</td>\n",
       "    </tr>\n",
       "    <tr>\n",
       "      <th>839</th>\n",
       "      <td>Region C</td>\n",
       "      <td>Country 16</td>\n",
       "      <td>2021-09-03</td>\n",
       "      <td>0012E00002bdpCA</td>\n",
       "      <td>NaN</td>\n",
       "      <td>NaT</td>\n",
       "      <td>NaN</td>\n",
       "      <td>2022-01-14 08:35:00</td>\n",
       "      <td>1.0</td>\n",
       "    </tr>\n",
       "    <tr>\n",
       "      <th>840</th>\n",
       "      <td>Region C</td>\n",
       "      <td>Country 16</td>\n",
       "      <td>2021-09-03</td>\n",
       "      <td>0012E00002bdpCB</td>\n",
       "      <td>NaN</td>\n",
       "      <td>NaT</td>\n",
       "      <td>NaN</td>\n",
       "      <td>2022-01-14 08:35:00</td>\n",
       "      <td>1.0</td>\n",
       "    </tr>\n",
       "    <tr>\n",
       "      <th>841</th>\n",
       "      <td>Region C</td>\n",
       "      <td>Country 16</td>\n",
       "      <td>2021-09-03</td>\n",
       "      <td>0012E00002bdpCC</td>\n",
       "      <td>NaN</td>\n",
       "      <td>NaT</td>\n",
       "      <td>NaN</td>\n",
       "      <td>2022-01-14 08:35:00</td>\n",
       "      <td>2.0</td>\n",
       "    </tr>\n",
       "    <tr>\n",
       "      <th>842</th>\n",
       "      <td>Region C</td>\n",
       "      <td>Country 16</td>\n",
       "      <td>2021-09-03</td>\n",
       "      <td>0012E00002bdpCD</td>\n",
       "      <td>NaN</td>\n",
       "      <td>NaT</td>\n",
       "      <td>NaN</td>\n",
       "      <td>2022-01-14 08:35:00</td>\n",
       "      <td>1.0</td>\n",
       "    </tr>\n",
       "  </tbody>\n",
       "</table>\n",
       "</div>"
      ],
      "text/plain": [
       "       Region     Country First Closed Won Opp Date       Account ID  \\\n",
       "838  Region C  Country 16                2021-09-03  0012E00002bdpC9   \n",
       "839  Region C  Country 16                2021-09-03  0012E00002bdpCA   \n",
       "840  Region C  Country 16                2021-09-03  0012E00002bdpCB   \n",
       "841  Region C  Country 16                2021-09-03  0012E00002bdpCC   \n",
       "842  Region C  Country 16                2021-09-03  0012E00002bdpCD   \n",
       "\n",
       "    CSM Status Stage Activation Date Highest Product Last Product usage date  \\\n",
       "838              NaN             NaT             NaN     2022-01-14 08:35:00   \n",
       "839              NaN             NaT             NaN     2022-01-14 08:35:00   \n",
       "840              NaN             NaT             NaN     2022-01-14 08:35:00   \n",
       "841              NaN             NaT             NaN     2022-01-14 08:35:00   \n",
       "842              NaN             NaT             NaN     2022-01-14 08:35:00   \n",
       "\n",
       "     # delivery partners  \n",
       "838                  1.0  \n",
       "839                  1.0  \n",
       "840                  1.0  \n",
       "841                  2.0  \n",
       "842                  1.0  "
      ]
     },
     "execution_count": 120,
     "metadata": {},
     "output_type": "execute_result"
    }
   ],
   "source": [
    "df[df['CSM Status Stage'].isna()].head()"
   ]
  },
  {
   "cell_type": "markdown",
   "metadata": {
    "jp-MarkdownHeadingCollapsed": true,
    "tags": []
   },
   "source": [
    "## Activation Date"
   ]
  },
  {
   "cell_type": "code",
   "execution_count": 121,
   "metadata": {},
   "outputs": [
    {
     "data": {
      "text/html": [
       "<div>\n",
       "<style scoped>\n",
       "    .dataframe tbody tr th:only-of-type {\n",
       "        vertical-align: middle;\n",
       "    }\n",
       "\n",
       "    .dataframe tbody tr th {\n",
       "        vertical-align: top;\n",
       "    }\n",
       "\n",
       "    .dataframe thead th {\n",
       "        text-align: right;\n",
       "    }\n",
       "</style>\n",
       "<table border=\"1\" class=\"dataframe\">\n",
       "  <thead>\n",
       "    <tr style=\"text-align: right;\">\n",
       "      <th></th>\n",
       "      <th>Activation Date</th>\n",
       "    </tr>\n",
       "  </thead>\n",
       "  <tbody>\n",
       "    <tr>\n",
       "      <th>0</th>\n",
       "      <td>2021-09-28</td>\n",
       "    </tr>\n",
       "    <tr>\n",
       "      <th>1</th>\n",
       "      <td>2021-10-04</td>\n",
       "    </tr>\n",
       "    <tr>\n",
       "      <th>2</th>\n",
       "      <td>2021-10-01</td>\n",
       "    </tr>\n",
       "    <tr>\n",
       "      <th>3</th>\n",
       "      <td>2021-10-01</td>\n",
       "    </tr>\n",
       "    <tr>\n",
       "      <th>4</th>\n",
       "      <td>2021-10-01</td>\n",
       "    </tr>\n",
       "  </tbody>\n",
       "</table>\n",
       "</div>"
      ],
      "text/plain": [
       "  Activation Date\n",
       "0      2021-09-28\n",
       "1      2021-10-04\n",
       "2      2021-10-01\n",
       "3      2021-10-01\n",
       "4      2021-10-01"
      ]
     },
     "execution_count": 121,
     "metadata": {},
     "output_type": "execute_result"
    }
   ],
   "source": [
    "df[['Activation Date']].head()"
   ]
  },
  {
   "cell_type": "markdown",
   "metadata": {
    "jp-MarkdownHeadingCollapsed": true,
    "tags": []
   },
   "source": [
    "## Highes product"
   ]
  },
  {
   "cell_type": "code",
   "execution_count": 122,
   "metadata": {},
   "outputs": [
    {
     "data": {
      "text/plain": [
       "{'Basic', 'Core', 'Premium', nan}"
      ]
     },
     "execution_count": 122,
     "metadata": {},
     "output_type": "execute_result"
    }
   ],
   "source": [
    "set(df['Highest Product'])"
   ]
  },
  {
   "cell_type": "code",
   "execution_count": 123,
   "metadata": {},
   "outputs": [],
   "source": [
    "df['Highest Product'] = df['Highest Product'].replace(np.nan, 'Basic')"
   ]
  },
  {
   "cell_type": "code",
   "execution_count": 124,
   "metadata": {},
   "outputs": [
    {
     "data": {
      "text/plain": [
       "{'Basic', 'Core', 'Premium'}"
      ]
     },
     "execution_count": 124,
     "metadata": {},
     "output_type": "execute_result"
    }
   ],
   "source": [
    "set(df['Highest Product'])"
   ]
  },
  {
   "cell_type": "code",
   "execution_count": 125,
   "metadata": {},
   "outputs": [
    {
     "data": {
      "text/html": [
       "<div>\n",
       "<style scoped>\n",
       "    .dataframe tbody tr th:only-of-type {\n",
       "        vertical-align: middle;\n",
       "    }\n",
       "\n",
       "    .dataframe tbody tr th {\n",
       "        vertical-align: top;\n",
       "    }\n",
       "\n",
       "    .dataframe thead th {\n",
       "        text-align: right;\n",
       "    }\n",
       "</style>\n",
       "<table border=\"1\" class=\"dataframe\">\n",
       "  <thead>\n",
       "    <tr style=\"text-align: right;\">\n",
       "      <th></th>\n",
       "      <th>Region</th>\n",
       "      <th>Country</th>\n",
       "      <th>First Closed Won Opp Date</th>\n",
       "      <th>Account ID</th>\n",
       "      <th>CSM Status Stage</th>\n",
       "      <th>Activation Date</th>\n",
       "      <th>Highest Product</th>\n",
       "      <th>Last Product usage date</th>\n",
       "      <th># delivery partners</th>\n",
       "    </tr>\n",
       "  </thead>\n",
       "  <tbody>\n",
       "    <tr>\n",
       "      <th>0</th>\n",
       "      <td>Region A</td>\n",
       "      <td>Country 1</td>\n",
       "      <td>2021-09-22</td>\n",
       "      <td>0012E00002b5a1J</td>\n",
       "      <td>Active</td>\n",
       "      <td>2021-09-28</td>\n",
       "      <td>Basic</td>\n",
       "      <td>2022-01-13 08:44:00</td>\n",
       "      <td>2.0</td>\n",
       "    </tr>\n",
       "    <tr>\n",
       "      <th>1</th>\n",
       "      <td>Region A</td>\n",
       "      <td>Country 8</td>\n",
       "      <td>2021-09-16</td>\n",
       "      <td>0012E00002b5Zvf</td>\n",
       "      <td>Active</td>\n",
       "      <td>2021-10-04</td>\n",
       "      <td>Basic</td>\n",
       "      <td>2022-01-13 13:26:00</td>\n",
       "      <td>4.0</td>\n",
       "    </tr>\n",
       "    <tr>\n",
       "      <th>2</th>\n",
       "      <td>Region C</td>\n",
       "      <td>Country 16</td>\n",
       "      <td>2021-10-01</td>\n",
       "      <td>0012E00002b8A7b</td>\n",
       "      <td>Active</td>\n",
       "      <td>2021-10-01</td>\n",
       "      <td>Basic</td>\n",
       "      <td>NaT</td>\n",
       "      <td>1.0</td>\n",
       "    </tr>\n",
       "    <tr>\n",
       "      <th>3</th>\n",
       "      <td>Region C</td>\n",
       "      <td>Country 16</td>\n",
       "      <td>2021-10-01</td>\n",
       "      <td>0012E00002b8Ail</td>\n",
       "      <td>Active</td>\n",
       "      <td>2021-10-01</td>\n",
       "      <td>Basic</td>\n",
       "      <td>NaT</td>\n",
       "      <td>1.0</td>\n",
       "    </tr>\n",
       "    <tr>\n",
       "      <th>4</th>\n",
       "      <td>Region C</td>\n",
       "      <td>Country 16</td>\n",
       "      <td>2021-10-01</td>\n",
       "      <td>0012E00002b8AMp</td>\n",
       "      <td>Active</td>\n",
       "      <td>2021-10-01</td>\n",
       "      <td>Basic</td>\n",
       "      <td>NaT</td>\n",
       "      <td>1.0</td>\n",
       "    </tr>\n",
       "  </tbody>\n",
       "</table>\n",
       "</div>"
      ],
      "text/plain": [
       "     Region     Country First Closed Won Opp Date       Account ID  \\\n",
       "0  Region A   Country 1                2021-09-22  0012E00002b5a1J   \n",
       "1  Region A   Country 8                2021-09-16  0012E00002b5Zvf   \n",
       "2  Region C  Country 16                2021-10-01  0012E00002b8A7b   \n",
       "3  Region C  Country 16                2021-10-01  0012E00002b8Ail   \n",
       "4  Region C  Country 16                2021-10-01  0012E00002b8AMp   \n",
       "\n",
       "  CSM Status Stage Activation Date Highest Product Last Product usage date  \\\n",
       "0           Active      2021-09-28           Basic     2022-01-13 08:44:00   \n",
       "1           Active      2021-10-04           Basic     2022-01-13 13:26:00   \n",
       "2           Active      2021-10-01           Basic                     NaT   \n",
       "3           Active      2021-10-01           Basic                     NaT   \n",
       "4           Active      2021-10-01           Basic                     NaT   \n",
       "\n",
       "   # delivery partners  \n",
       "0                  2.0  \n",
       "1                  4.0  \n",
       "2                  1.0  \n",
       "3                  1.0  \n",
       "4                  1.0  "
      ]
     },
     "execution_count": 125,
     "metadata": {},
     "output_type": "execute_result"
    }
   ],
   "source": [
    "df.head()"
   ]
  },
  {
   "cell_type": "markdown",
   "metadata": {
    "jp-MarkdownHeadingCollapsed": true,
    "tags": []
   },
   "source": [
    "## # delivery partners"
   ]
  },
  {
   "cell_type": "code",
   "execution_count": 126,
   "metadata": {},
   "outputs": [
    {
     "data": {
      "text/plain": [
       "count    29865.000000\n",
       "mean         1.330722\n",
       "std          0.990419\n",
       "min          0.000000\n",
       "25%          1.000000\n",
       "50%          1.000000\n",
       "75%          2.000000\n",
       "max          7.000000\n",
       "Name: # delivery partners, dtype: float64"
      ]
     },
     "execution_count": 126,
     "metadata": {},
     "output_type": "execute_result"
    }
   ],
   "source": [
    "df['# delivery partners'].describe()"
   ]
  },
  {
   "cell_type": "markdown",
   "metadata": {
    "jp-MarkdownHeadingCollapsed": true,
    "tags": []
   },
   "source": [
    "## NaNs by Region"
   ]
  },
  {
   "cell_type": "code",
   "execution_count": 127,
   "metadata": {},
   "outputs": [
    {
     "data": {
      "text/html": [
       "<div>\n",
       "<style scoped>\n",
       "    .dataframe tbody tr th:only-of-type {\n",
       "        vertical-align: middle;\n",
       "    }\n",
       "\n",
       "    .dataframe tbody tr th {\n",
       "        vertical-align: top;\n",
       "    }\n",
       "\n",
       "    .dataframe thead th {\n",
       "        text-align: right;\n",
       "    }\n",
       "</style>\n",
       "<table border=\"1\" class=\"dataframe\">\n",
       "  <thead>\n",
       "    <tr style=\"text-align: right;\">\n",
       "      <th></th>\n",
       "      <th>Region</th>\n",
       "      <th>count</th>\n",
       "    </tr>\n",
       "  </thead>\n",
       "  <tbody>\n",
       "    <tr>\n",
       "      <th>0</th>\n",
       "      <td>Region A</td>\n",
       "      <td>1</td>\n",
       "    </tr>\n",
       "    <tr>\n",
       "      <th>1</th>\n",
       "      <td>Region B</td>\n",
       "      <td>3</td>\n",
       "    </tr>\n",
       "    <tr>\n",
       "      <th>2</th>\n",
       "      <td>Region C</td>\n",
       "      <td>44</td>\n",
       "    </tr>\n",
       "    <tr>\n",
       "      <th>3</th>\n",
       "      <td>Region D</td>\n",
       "      <td>3</td>\n",
       "    </tr>\n",
       "    <tr>\n",
       "      <th>4</th>\n",
       "      <td>Unknown</td>\n",
       "      <td>0</td>\n",
       "    </tr>\n",
       "  </tbody>\n",
       "</table>\n",
       "</div>"
      ],
      "text/plain": [
       "     Region  count\n",
       "0  Region A      1\n",
       "1  Region B      3\n",
       "2  Region C     44\n",
       "3  Region D      3\n",
       "4   Unknown      0"
      ]
     },
     "execution_count": 127,
     "metadata": {},
     "output_type": "execute_result"
    }
   ],
   "source": [
    "df['CSM Status Stage'].isnull().groupby([df['Region']]).sum().astype(int).reset_index(name='count')"
   ]
  },
  {
   "cell_type": "code",
   "execution_count": 128,
   "metadata": {},
   "outputs": [],
   "source": [
    "df.to_excel('data/data_clean.xlsx')"
   ]
  },
  {
   "cell_type": "markdown",
   "metadata": {},
   "source": [
    "# Feature engineering"
   ]
  },
  {
   "cell_type": "markdown",
   "metadata": {
    "jp-MarkdownHeadingCollapsed": true,
    "tags": []
   },
   "source": [
    "## `has_logged_in`"
   ]
  },
  {
   "cell_type": "code",
   "execution_count": 129,
   "metadata": {
    "collapsed": false,
    "jupyter": {
     "outputs_hidden": false
    }
   },
   "outputs": [
    {
     "name": "stdout",
     "output_type": "stream",
     "text": [
      "38620\n"
     ]
    },
    {
     "data": {
      "text/html": [
       "<div>\n",
       "<style scoped>\n",
       "    .dataframe tbody tr th:only-of-type {\n",
       "        vertical-align: middle;\n",
       "    }\n",
       "\n",
       "    .dataframe tbody tr th {\n",
       "        vertical-align: top;\n",
       "    }\n",
       "\n",
       "    .dataframe thead th {\n",
       "        text-align: right;\n",
       "    }\n",
       "</style>\n",
       "<table border=\"1\" class=\"dataframe\">\n",
       "  <thead>\n",
       "    <tr style=\"text-align: right;\">\n",
       "      <th></th>\n",
       "      <th>Region</th>\n",
       "      <th>Country</th>\n",
       "      <th>First Closed Won Opp Date</th>\n",
       "      <th>Account ID</th>\n",
       "      <th>CSM Status Stage</th>\n",
       "      <th>Activation Date</th>\n",
       "      <th>Highest Product</th>\n",
       "      <th>Last Product usage date</th>\n",
       "      <th># delivery partners</th>\n",
       "      <th>has_logged_in</th>\n",
       "    </tr>\n",
       "  </thead>\n",
       "  <tbody>\n",
       "    <tr>\n",
       "      <th>0</th>\n",
       "      <td>Region A</td>\n",
       "      <td>Country 1</td>\n",
       "      <td>2021-09-22</td>\n",
       "      <td>0012E00002b5a1J</td>\n",
       "      <td>Active</td>\n",
       "      <td>2021-09-28</td>\n",
       "      <td>Basic</td>\n",
       "      <td>2022-01-13 08:44:00</td>\n",
       "      <td>2.0</td>\n",
       "      <td>True</td>\n",
       "    </tr>\n",
       "    <tr>\n",
       "      <th>1</th>\n",
       "      <td>Region A</td>\n",
       "      <td>Country 8</td>\n",
       "      <td>2021-09-16</td>\n",
       "      <td>0012E00002b5Zvf</td>\n",
       "      <td>Active</td>\n",
       "      <td>2021-10-04</td>\n",
       "      <td>Basic</td>\n",
       "      <td>2022-01-13 13:26:00</td>\n",
       "      <td>4.0</td>\n",
       "      <td>True</td>\n",
       "    </tr>\n",
       "    <tr>\n",
       "      <th>2</th>\n",
       "      <td>Region C</td>\n",
       "      <td>Country 16</td>\n",
       "      <td>2021-10-01</td>\n",
       "      <td>0012E00002b8A7b</td>\n",
       "      <td>Active</td>\n",
       "      <td>2021-10-01</td>\n",
       "      <td>Basic</td>\n",
       "      <td>NaT</td>\n",
       "      <td>1.0</td>\n",
       "      <td>False</td>\n",
       "    </tr>\n",
       "    <tr>\n",
       "      <th>3</th>\n",
       "      <td>Region C</td>\n",
       "      <td>Country 16</td>\n",
       "      <td>2021-10-01</td>\n",
       "      <td>0012E00002b8Ail</td>\n",
       "      <td>Active</td>\n",
       "      <td>2021-10-01</td>\n",
       "      <td>Basic</td>\n",
       "      <td>NaT</td>\n",
       "      <td>1.0</td>\n",
       "      <td>False</td>\n",
       "    </tr>\n",
       "    <tr>\n",
       "      <th>4</th>\n",
       "      <td>Region C</td>\n",
       "      <td>Country 16</td>\n",
       "      <td>2021-10-01</td>\n",
       "      <td>0012E00002b8AMp</td>\n",
       "      <td>Active</td>\n",
       "      <td>2021-10-01</td>\n",
       "      <td>Basic</td>\n",
       "      <td>NaT</td>\n",
       "      <td>1.0</td>\n",
       "      <td>False</td>\n",
       "    </tr>\n",
       "  </tbody>\n",
       "</table>\n",
       "</div>"
      ],
      "text/plain": [
       "     Region     Country First Closed Won Opp Date       Account ID  \\\n",
       "0  Region A   Country 1                2021-09-22  0012E00002b5a1J   \n",
       "1  Region A   Country 8                2021-09-16  0012E00002b5Zvf   \n",
       "2  Region C  Country 16                2021-10-01  0012E00002b8A7b   \n",
       "3  Region C  Country 16                2021-10-01  0012E00002b8Ail   \n",
       "4  Region C  Country 16                2021-10-01  0012E00002b8AMp   \n",
       "\n",
       "  CSM Status Stage Activation Date Highest Product Last Product usage date  \\\n",
       "0           Active      2021-09-28           Basic     2022-01-13 08:44:00   \n",
       "1           Active      2021-10-04           Basic     2022-01-13 13:26:00   \n",
       "2           Active      2021-10-01           Basic                     NaT   \n",
       "3           Active      2021-10-01           Basic                     NaT   \n",
       "4           Active      2021-10-01           Basic                     NaT   \n",
       "\n",
       "   # delivery partners  has_logged_in  \n",
       "0                  2.0           True  \n",
       "1                  4.0           True  \n",
       "2                  1.0          False  \n",
       "3                  1.0          False  \n",
       "4                  1.0          False  "
      ]
     },
     "execution_count": 129,
     "metadata": {},
     "output_type": "execute_result"
    }
   ],
   "source": [
    "def has_logged_in(row):\n",
    "    if row['Last Product usage date'] is pd.NaT:\n",
    "        val = False\n",
    "    else:\n",
    "        val = True\n",
    "    return val\n",
    "\n",
    "df['has_logged_in'] = df.apply(has_logged_in, axis=1)\n",
    "print(len(df))\n",
    "df.head()"
   ]
  },
  {
   "cell_type": "code",
   "execution_count": 130,
   "metadata": {
    "collapsed": false,
    "jupyter": {
     "outputs_hidden": false
    }
   },
   "outputs": [
    {
     "data": {
      "text/plain": [
       "Region                               object\n",
       "Country                              object\n",
       "First Closed Won Opp Date    datetime64[ns]\n",
       "Account ID                           object\n",
       "CSM Status Stage                     object\n",
       "Activation Date              datetime64[ns]\n",
       "Highest Product                      object\n",
       "Last Product usage date      datetime64[ns]\n",
       "# delivery partners                 float64\n",
       "has_logged_in                          bool\n",
       "dtype: object"
      ]
     },
     "execution_count": 130,
     "metadata": {},
     "output_type": "execute_result"
    }
   ],
   "source": [
    "df.dtypes"
   ]
  },
  {
   "cell_type": "markdown",
   "metadata": {
    "tags": []
   },
   "source": [
    "## Delta `activation date` & `won opp`\n",
    "\n",
    "Columns on Google sheet follow different format:\n",
    "- `won opp`: MM-DD-YYY\n",
    "- `activation date`: DD-MM-YYYY\n",
    "\n",
    "Downloaded to Excel:\n",
    "- `won opp`: MM-DD-YYY\n",
    "- `activation date`: DD-MM-YYYY"
   ]
  },
  {
   "cell_type": "code",
   "execution_count": 131,
   "metadata": {},
   "outputs": [
    {
     "data": {
      "text/html": [
       "<div>\n",
       "<style scoped>\n",
       "    .dataframe tbody tr th:only-of-type {\n",
       "        vertical-align: middle;\n",
       "    }\n",
       "\n",
       "    .dataframe tbody tr th {\n",
       "        vertical-align: top;\n",
       "    }\n",
       "\n",
       "    .dataframe thead th {\n",
       "        text-align: right;\n",
       "    }\n",
       "</style>\n",
       "<table border=\"1\" class=\"dataframe\">\n",
       "  <thead>\n",
       "    <tr style=\"text-align: right;\">\n",
       "      <th></th>\n",
       "      <th>Region</th>\n",
       "      <th>Country</th>\n",
       "      <th>First Closed Won Opp Date</th>\n",
       "      <th>Account ID</th>\n",
       "      <th>CSM Status Stage</th>\n",
       "      <th>Activation Date</th>\n",
       "      <th>Highest Product</th>\n",
       "      <th>Last Product usage date</th>\n",
       "      <th># delivery partners</th>\n",
       "    </tr>\n",
       "  </thead>\n",
       "  <tbody>\n",
       "    <tr>\n",
       "      <th>0</th>\n",
       "      <td>Region A</td>\n",
       "      <td>Country 1</td>\n",
       "      <td>2021-09-22</td>\n",
       "      <td>0012E00002b5a1J</td>\n",
       "      <td>Active</td>\n",
       "      <td>2021-09-28</td>\n",
       "      <td>NaN</td>\n",
       "      <td>2022-01-13 08:44:00</td>\n",
       "      <td>2.0</td>\n",
       "    </tr>\n",
       "    <tr>\n",
       "      <th>1</th>\n",
       "      <td>Region A</td>\n",
       "      <td>Country 8</td>\n",
       "      <td>2021-09-16</td>\n",
       "      <td>0012E00002b5Zvf</td>\n",
       "      <td>Active</td>\n",
       "      <td>2021-10-04</td>\n",
       "      <td>NaN</td>\n",
       "      <td>2022-01-13 13:26:00</td>\n",
       "      <td>4.0</td>\n",
       "    </tr>\n",
       "    <tr>\n",
       "      <th>2</th>\n",
       "      <td>Region C</td>\n",
       "      <td>Country 16</td>\n",
       "      <td>2021-10-01</td>\n",
       "      <td>0012E00002b8A7b</td>\n",
       "      <td>Active</td>\n",
       "      <td>2021-10-01</td>\n",
       "      <td>NaN</td>\n",
       "      <td>NaT</td>\n",
       "      <td>1.0</td>\n",
       "    </tr>\n",
       "    <tr>\n",
       "      <th>3</th>\n",
       "      <td>Region C</td>\n",
       "      <td>Country 16</td>\n",
       "      <td>2021-10-01</td>\n",
       "      <td>0012E00002b8Ail</td>\n",
       "      <td>Active</td>\n",
       "      <td>2021-10-01</td>\n",
       "      <td>NaN</td>\n",
       "      <td>NaT</td>\n",
       "      <td>1.0</td>\n",
       "    </tr>\n",
       "    <tr>\n",
       "      <th>4</th>\n",
       "      <td>Region C</td>\n",
       "      <td>Country 16</td>\n",
       "      <td>2021-10-01</td>\n",
       "      <td>0012E00002b8AMp</td>\n",
       "      <td>Active</td>\n",
       "      <td>2021-10-01</td>\n",
       "      <td>NaN</td>\n",
       "      <td>NaT</td>\n",
       "      <td>1.0</td>\n",
       "    </tr>\n",
       "  </tbody>\n",
       "</table>\n",
       "</div>"
      ],
      "text/plain": [
       "     Region     Country First Closed Won Opp Date       Account ID  \\\n",
       "0  Region A   Country 1                2021-09-22  0012E00002b5a1J   \n",
       "1  Region A   Country 8                2021-09-16  0012E00002b5Zvf   \n",
       "2  Region C  Country 16                2021-10-01  0012E00002b8A7b   \n",
       "3  Region C  Country 16                2021-10-01  0012E00002b8Ail   \n",
       "4  Region C  Country 16                2021-10-01  0012E00002b8AMp   \n",
       "\n",
       "  CSM Status Stage Activation Date Highest Product Last Product usage date  \\\n",
       "0           Active      2021-09-28             NaN     2022-01-13 08:44:00   \n",
       "1           Active      2021-10-04             NaN     2022-01-13 13:26:00   \n",
       "2           Active      2021-10-01             NaN                     NaT   \n",
       "3           Active      2021-10-01             NaN                     NaT   \n",
       "4           Active      2021-10-01             NaN                     NaT   \n",
       "\n",
       "   # delivery partners  \n",
       "0                  2.0  \n",
       "1                  4.0  \n",
       "2                  1.0  \n",
       "3                  1.0  \n",
       "4                  1.0  "
      ]
     },
     "execution_count": 131,
     "metadata": {},
     "output_type": "execute_result"
    }
   ],
   "source": [
    "# read Excel\n",
    "pd.read_excel('data/data.xlsx').head()"
   ]
  },
  {
   "cell_type": "markdown",
   "metadata": {},
   "source": [
    "`won opp` has changed from MM-DD-YYYY to YYY-MM-DD (!)  \n",
    "`activation date` has changed from DD-MM-YYYY to YYYY-MM-DD (!)"
   ]
  },
  {
   "cell_type": "code",
   "execution_count": 132,
   "metadata": {},
   "outputs": [
    {
     "data": {
      "text/html": [
       "<div>\n",
       "<style scoped>\n",
       "    .dataframe tbody tr th:only-of-type {\n",
       "        vertical-align: middle;\n",
       "    }\n",
       "\n",
       "    .dataframe tbody tr th {\n",
       "        vertical-align: top;\n",
       "    }\n",
       "\n",
       "    .dataframe thead th {\n",
       "        text-align: right;\n",
       "    }\n",
       "</style>\n",
       "<table border=\"1\" class=\"dataframe\">\n",
       "  <thead>\n",
       "    <tr style=\"text-align: right;\">\n",
       "      <th></th>\n",
       "      <th>Region</th>\n",
       "      <th>Country</th>\n",
       "      <th>First Closed Won Opp Date</th>\n",
       "      <th>Account ID</th>\n",
       "      <th>CSM Status Stage</th>\n",
       "      <th>Activation Date</th>\n",
       "      <th>Highest Product</th>\n",
       "      <th>Last Product usage date</th>\n",
       "      <th># delivery partners</th>\n",
       "    </tr>\n",
       "  </thead>\n",
       "  <tbody>\n",
       "    <tr>\n",
       "      <th>0</th>\n",
       "      <td>Region A</td>\n",
       "      <td>Country 1</td>\n",
       "      <td>2021-09-22</td>\n",
       "      <td>0012E00002b5a1J</td>\n",
       "      <td>Active</td>\n",
       "      <td>2021-09-28</td>\n",
       "      <td>NaN</td>\n",
       "      <td>2022-01-13 08:44:00</td>\n",
       "      <td>2.0</td>\n",
       "    </tr>\n",
       "    <tr>\n",
       "      <th>1</th>\n",
       "      <td>Region A</td>\n",
       "      <td>Country 8</td>\n",
       "      <td>2021-09-16</td>\n",
       "      <td>0012E00002b5Zvf</td>\n",
       "      <td>Active</td>\n",
       "      <td>2021-10-04</td>\n",
       "      <td>NaN</td>\n",
       "      <td>2022-01-13 13:26:00</td>\n",
       "      <td>4.0</td>\n",
       "    </tr>\n",
       "    <tr>\n",
       "      <th>2</th>\n",
       "      <td>Region C</td>\n",
       "      <td>Country 16</td>\n",
       "      <td>2021-10-01</td>\n",
       "      <td>0012E00002b8A7b</td>\n",
       "      <td>Active</td>\n",
       "      <td>2021-10-01</td>\n",
       "      <td>NaN</td>\n",
       "      <td>NaT</td>\n",
       "      <td>1.0</td>\n",
       "    </tr>\n",
       "    <tr>\n",
       "      <th>3</th>\n",
       "      <td>Region C</td>\n",
       "      <td>Country 16</td>\n",
       "      <td>2021-10-01</td>\n",
       "      <td>0012E00002b8Ail</td>\n",
       "      <td>Active</td>\n",
       "      <td>2021-10-01</td>\n",
       "      <td>NaN</td>\n",
       "      <td>NaT</td>\n",
       "      <td>1.0</td>\n",
       "    </tr>\n",
       "    <tr>\n",
       "      <th>4</th>\n",
       "      <td>Region C</td>\n",
       "      <td>Country 16</td>\n",
       "      <td>2021-10-01</td>\n",
       "      <td>0012E00002b8AMp</td>\n",
       "      <td>Active</td>\n",
       "      <td>2021-10-01</td>\n",
       "      <td>NaN</td>\n",
       "      <td>NaT</td>\n",
       "      <td>1.0</td>\n",
       "    </tr>\n",
       "  </tbody>\n",
       "</table>\n",
       "</div>"
      ],
      "text/plain": [
       "     Region     Country First Closed Won Opp Date       Account ID  \\\n",
       "0  Region A   Country 1                2021-09-22  0012E00002b5a1J   \n",
       "1  Region A   Country 8                2021-09-16  0012E00002b5Zvf   \n",
       "2  Region C  Country 16                2021-10-01  0012E00002b8A7b   \n",
       "3  Region C  Country 16                2021-10-01  0012E00002b8Ail   \n",
       "4  Region C  Country 16                2021-10-01  0012E00002b8AMp   \n",
       "\n",
       "  CSM Status Stage Activation Date Highest Product Last Product usage date  \\\n",
       "0           Active      2021-09-28             NaN     2022-01-13 08:44:00   \n",
       "1           Active      2021-10-04             NaN     2022-01-13 13:26:00   \n",
       "2           Active      2021-10-01             NaN                     NaT   \n",
       "3           Active      2021-10-01             NaN                     NaT   \n",
       "4           Active      2021-10-01             NaN                     NaT   \n",
       "\n",
       "   # delivery partners  \n",
       "0                  2.0  \n",
       "1                  4.0  \n",
       "2                  1.0  \n",
       "3                  1.0  \n",
       "4                  1.0  "
      ]
     },
     "execution_count": 132,
     "metadata": {},
     "output_type": "execute_result"
    }
   ],
   "source": [
    "# try setting the date format\n",
    "df_excel = pd.read_excel('data/data.xlsx', parse_dates=['First Closed Won Opp Date', 'Activation Date'], date_parser=lambda x: pd.to_datetime(x, format='%YYYY-%MM-%DD'))\n",
    "df_excel.head()"
   ]
  },
  {
   "cell_type": "code",
   "execution_count": 133,
   "metadata": {},
   "outputs": [
    {
     "data": {
      "text/html": [
       "<div>\n",
       "<style scoped>\n",
       "    .dataframe tbody tr th:only-of-type {\n",
       "        vertical-align: middle;\n",
       "    }\n",
       "\n",
       "    .dataframe tbody tr th {\n",
       "        vertical-align: top;\n",
       "    }\n",
       "\n",
       "    .dataframe thead th {\n",
       "        text-align: right;\n",
       "    }\n",
       "</style>\n",
       "<table border=\"1\" class=\"dataframe\">\n",
       "  <thead>\n",
       "    <tr style=\"text-align: right;\">\n",
       "      <th></th>\n",
       "      <th>Region</th>\n",
       "      <th>Country</th>\n",
       "      <th>First Closed Won Opp Date</th>\n",
       "      <th>Account ID</th>\n",
       "      <th>CSM Status Stage</th>\n",
       "      <th>Activation Date</th>\n",
       "      <th>Highest Product</th>\n",
       "      <th>Last Product usage date</th>\n",
       "      <th># delivery partners</th>\n",
       "      <th>test</th>\n",
       "    </tr>\n",
       "  </thead>\n",
       "  <tbody>\n",
       "    <tr>\n",
       "      <th>21</th>\n",
       "      <td>Region A</td>\n",
       "      <td>Country 1</td>\n",
       "      <td>2021-09-02</td>\n",
       "      <td>0012E00002bc2Hj</td>\n",
       "      <td>Churned</td>\n",
       "      <td>2021-09-01</td>\n",
       "      <td>Core</td>\n",
       "      <td>NaT</td>\n",
       "      <td>0.0</td>\n",
       "      <td>-1 days</td>\n",
       "    </tr>\n",
       "    <tr>\n",
       "      <th>45</th>\n",
       "      <td>Region A</td>\n",
       "      <td>Country 1</td>\n",
       "      <td>2021-12-01</td>\n",
       "      <td>0012E00002bcf5g</td>\n",
       "      <td>Active</td>\n",
       "      <td>2021-11-30</td>\n",
       "      <td>NaN</td>\n",
       "      <td>NaT</td>\n",
       "      <td>NaN</td>\n",
       "      <td>-1 days</td>\n",
       "    </tr>\n",
       "    <tr>\n",
       "      <th>49</th>\n",
       "      <td>Region A</td>\n",
       "      <td>Country 1</td>\n",
       "      <td>2021-12-01</td>\n",
       "      <td>0012E00002bcGMs</td>\n",
       "      <td>Active</td>\n",
       "      <td>2021-11-30</td>\n",
       "      <td>NaN</td>\n",
       "      <td>NaT</td>\n",
       "      <td>1.0</td>\n",
       "      <td>-1 days</td>\n",
       "    </tr>\n",
       "    <tr>\n",
       "      <th>69</th>\n",
       "      <td>Region A</td>\n",
       "      <td>Country 1</td>\n",
       "      <td>2021-09-03</td>\n",
       "      <td>0012E00002bcKIf</td>\n",
       "      <td>Active</td>\n",
       "      <td>2021-09-02</td>\n",
       "      <td>Core</td>\n",
       "      <td>2021-12-22 13:30:00</td>\n",
       "      <td>0.0</td>\n",
       "      <td>-1 days</td>\n",
       "    </tr>\n",
       "    <tr>\n",
       "      <th>107</th>\n",
       "      <td>Region A</td>\n",
       "      <td>Country 1</td>\n",
       "      <td>2021-10-28</td>\n",
       "      <td>0012E00002bcQw4</td>\n",
       "      <td>Active</td>\n",
       "      <td>2021-10-03</td>\n",
       "      <td>NaN</td>\n",
       "      <td>NaT</td>\n",
       "      <td>NaN</td>\n",
       "      <td>-25 days</td>\n",
       "    </tr>\n",
       "  </tbody>\n",
       "</table>\n",
       "</div>"
      ],
      "text/plain": [
       "       Region    Country First Closed Won Opp Date       Account ID  \\\n",
       "21   Region A  Country 1                2021-09-02  0012E00002bc2Hj   \n",
       "45   Region A  Country 1                2021-12-01  0012E00002bcf5g   \n",
       "49   Region A  Country 1                2021-12-01  0012E00002bcGMs   \n",
       "69   Region A  Country 1                2021-09-03  0012E00002bcKIf   \n",
       "107  Region A  Country 1                2021-10-28  0012E00002bcQw4   \n",
       "\n",
       "    CSM Status Stage Activation Date Highest Product Last Product usage date  \\\n",
       "21           Churned      2021-09-01            Core                     NaT   \n",
       "45            Active      2021-11-30             NaN                     NaT   \n",
       "49            Active      2021-11-30             NaN                     NaT   \n",
       "69            Active      2021-09-02            Core     2021-12-22 13:30:00   \n",
       "107           Active      2021-10-03             NaN                     NaT   \n",
       "\n",
       "     # delivery partners     test  \n",
       "21                   0.0  -1 days  \n",
       "45                   NaN  -1 days  \n",
       "49                   1.0  -1 days  \n",
       "69                   0.0  -1 days  \n",
       "107                  NaN -25 days  "
      ]
     },
     "execution_count": 133,
     "metadata": {},
     "output_type": "execute_result"
    }
   ],
   "source": [
    "df_excel['test'] = df_excel['Activation Date'] - df_excel['First Closed Won Opp Date']\n",
    "df_excel[df_excel['test'] < pd.Timedelta(0)].head()"
   ]
  },
  {
   "cell_type": "markdown",
   "metadata": {},
   "source": [
    "Dates seem to be wrong, since Activation Date happens before Won Opp. And dates like \"2021-09-22\" and \"2021-09-28\" have to be right, day and month can't be interchanged."
   ]
  },
  {
   "cell_type": "code",
   "execution_count": 134,
   "metadata": {},
   "outputs": [
    {
     "data": {
      "text/plain": [
       "Region                               object\n",
       "Country                              object\n",
       "First Closed Won Opp Date    datetime64[ns]\n",
       "Account ID                           object\n",
       "CSM Status Stage                     object\n",
       "Activation Date              datetime64[ns]\n",
       "Highest Product                      object\n",
       "Last Product usage date      datetime64[ns]\n",
       "# delivery partners                 float64\n",
       "has_logged_in                          bool\n",
       "dtype: object"
      ]
     },
     "execution_count": 134,
     "metadata": {},
     "output_type": "execute_result"
    }
   ],
   "source": [
    "df.dtypes"
   ]
  },
  {
   "attachments": {},
   "cell_type": "markdown",
   "metadata": {},
   "source": [
    "## Year & month"
   ]
  },
  {
   "cell_type": "code",
   "execution_count": 135,
   "metadata": {},
   "outputs": [
    {
     "data": {
      "text/html": [
       "<div>\n",
       "<style scoped>\n",
       "    .dataframe tbody tr th:only-of-type {\n",
       "        vertical-align: middle;\n",
       "    }\n",
       "\n",
       "    .dataframe tbody tr th {\n",
       "        vertical-align: top;\n",
       "    }\n",
       "\n",
       "    .dataframe thead th {\n",
       "        text-align: right;\n",
       "    }\n",
       "</style>\n",
       "<table border=\"1\" class=\"dataframe\">\n",
       "  <thead>\n",
       "    <tr style=\"text-align: right;\">\n",
       "      <th></th>\n",
       "      <th>Region</th>\n",
       "      <th>Country</th>\n",
       "      <th>First Closed Won Opp Date</th>\n",
       "      <th>Account ID</th>\n",
       "      <th>CSM Status Stage</th>\n",
       "      <th>Activation Date</th>\n",
       "      <th>Highest Product</th>\n",
       "      <th>Last Product usage date</th>\n",
       "      <th># delivery partners</th>\n",
       "      <th>has_logged_in</th>\n",
       "      <th>date_activation</th>\n",
       "      <th>year_activation</th>\n",
       "      <th>month_activation</th>\n",
       "      <th>date_usage</th>\n",
       "      <th>year_usage</th>\n",
       "      <th>month_usage</th>\n",
       "    </tr>\n",
       "  </thead>\n",
       "  <tbody>\n",
       "    <tr>\n",
       "      <th>0</th>\n",
       "      <td>Region A</td>\n",
       "      <td>Country 1</td>\n",
       "      <td>2021-09-22</td>\n",
       "      <td>0012E00002b5a1J</td>\n",
       "      <td>Active</td>\n",
       "      <td>2021-09-28</td>\n",
       "      <td>Basic</td>\n",
       "      <td>2022-01-13 08:44:00</td>\n",
       "      <td>2.0</td>\n",
       "      <td>True</td>\n",
       "      <td>2021-09-28</td>\n",
       "      <td>2021.0</td>\n",
       "      <td>9.0</td>\n",
       "      <td>2022-01-13</td>\n",
       "      <td>2022.0</td>\n",
       "      <td>1.0</td>\n",
       "    </tr>\n",
       "    <tr>\n",
       "      <th>1</th>\n",
       "      <td>Region A</td>\n",
       "      <td>Country 8</td>\n",
       "      <td>2021-09-16</td>\n",
       "      <td>0012E00002b5Zvf</td>\n",
       "      <td>Active</td>\n",
       "      <td>2021-10-04</td>\n",
       "      <td>Basic</td>\n",
       "      <td>2022-01-13 13:26:00</td>\n",
       "      <td>4.0</td>\n",
       "      <td>True</td>\n",
       "      <td>2021-10-04</td>\n",
       "      <td>2021.0</td>\n",
       "      <td>10.0</td>\n",
       "      <td>2022-01-13</td>\n",
       "      <td>2022.0</td>\n",
       "      <td>1.0</td>\n",
       "    </tr>\n",
       "    <tr>\n",
       "      <th>2</th>\n",
       "      <td>Region C</td>\n",
       "      <td>Country 16</td>\n",
       "      <td>2021-10-01</td>\n",
       "      <td>0012E00002b8A7b</td>\n",
       "      <td>Active</td>\n",
       "      <td>2021-10-01</td>\n",
       "      <td>Basic</td>\n",
       "      <td>NaT</td>\n",
       "      <td>1.0</td>\n",
       "      <td>False</td>\n",
       "      <td>2021-10-01</td>\n",
       "      <td>2021.0</td>\n",
       "      <td>10.0</td>\n",
       "      <td>NaT</td>\n",
       "      <td>NaN</td>\n",
       "      <td>NaN</td>\n",
       "    </tr>\n",
       "    <tr>\n",
       "      <th>3</th>\n",
       "      <td>Region C</td>\n",
       "      <td>Country 16</td>\n",
       "      <td>2021-10-01</td>\n",
       "      <td>0012E00002b8Ail</td>\n",
       "      <td>Active</td>\n",
       "      <td>2021-10-01</td>\n",
       "      <td>Basic</td>\n",
       "      <td>NaT</td>\n",
       "      <td>1.0</td>\n",
       "      <td>False</td>\n",
       "      <td>2021-10-01</td>\n",
       "      <td>2021.0</td>\n",
       "      <td>10.0</td>\n",
       "      <td>NaT</td>\n",
       "      <td>NaN</td>\n",
       "      <td>NaN</td>\n",
       "    </tr>\n",
       "    <tr>\n",
       "      <th>4</th>\n",
       "      <td>Region C</td>\n",
       "      <td>Country 16</td>\n",
       "      <td>2021-10-01</td>\n",
       "      <td>0012E00002b8AMp</td>\n",
       "      <td>Active</td>\n",
       "      <td>2021-10-01</td>\n",
       "      <td>Basic</td>\n",
       "      <td>NaT</td>\n",
       "      <td>1.0</td>\n",
       "      <td>False</td>\n",
       "      <td>2021-10-01</td>\n",
       "      <td>2021.0</td>\n",
       "      <td>10.0</td>\n",
       "      <td>NaT</td>\n",
       "      <td>NaN</td>\n",
       "      <td>NaN</td>\n",
       "    </tr>\n",
       "  </tbody>\n",
       "</table>\n",
       "</div>"
      ],
      "text/plain": [
       "     Region     Country First Closed Won Opp Date       Account ID  \\\n",
       "0  Region A   Country 1                2021-09-22  0012E00002b5a1J   \n",
       "1  Region A   Country 8                2021-09-16  0012E00002b5Zvf   \n",
       "2  Region C  Country 16                2021-10-01  0012E00002b8A7b   \n",
       "3  Region C  Country 16                2021-10-01  0012E00002b8Ail   \n",
       "4  Region C  Country 16                2021-10-01  0012E00002b8AMp   \n",
       "\n",
       "  CSM Status Stage Activation Date Highest Product Last Product usage date  \\\n",
       "0           Active      2021-09-28           Basic     2022-01-13 08:44:00   \n",
       "1           Active      2021-10-04           Basic     2022-01-13 13:26:00   \n",
       "2           Active      2021-10-01           Basic                     NaT   \n",
       "3           Active      2021-10-01           Basic                     NaT   \n",
       "4           Active      2021-10-01           Basic                     NaT   \n",
       "\n",
       "   # delivery partners  has_logged_in date_activation  year_activation  \\\n",
       "0                  2.0           True      2021-09-28           2021.0   \n",
       "1                  4.0           True      2021-10-04           2021.0   \n",
       "2                  1.0          False      2021-10-01           2021.0   \n",
       "3                  1.0          False      2021-10-01           2021.0   \n",
       "4                  1.0          False      2021-10-01           2021.0   \n",
       "\n",
       "   month_activation  date_usage  year_usage  month_usage  \n",
       "0               9.0  2022-01-13      2022.0          1.0  \n",
       "1              10.0  2022-01-13      2022.0          1.0  \n",
       "2              10.0         NaT         NaN          NaN  \n",
       "3              10.0         NaT         NaN          NaN  \n",
       "4              10.0         NaT         NaN          NaN  "
      ]
     },
     "execution_count": 135,
     "metadata": {},
     "output_type": "execute_result"
    }
   ],
   "source": [
    "df['date_activation'] = df['Activation Date'].dt.date\n",
    "df['year_activation'] = df['Activation Date'].dt.year\n",
    "df['month_activation'] = df['Activation Date'].dt.month\n",
    "\n",
    "df['date_usage'] = df['Last Product usage date'].dt.date\n",
    "df['year_usage'] = df['Last Product usage date'].dt.year\n",
    "df['month_usage'] = df['Last Product usage date'].dt.month\n",
    "df.head()"
   ]
  },
  {
   "cell_type": "code",
   "execution_count": 136,
   "metadata": {},
   "outputs": [
    {
     "data": {
      "text/plain": [
       "Region                               object\n",
       "Country                              object\n",
       "First Closed Won Opp Date    datetime64[ns]\n",
       "Account ID                           object\n",
       "CSM Status Stage                     object\n",
       "Activation Date              datetime64[ns]\n",
       "Highest Product                      object\n",
       "Last Product usage date      datetime64[ns]\n",
       "# delivery partners                 float64\n",
       "has_logged_in                          bool\n",
       "date_activation                      object\n",
       "year_activation                     float64\n",
       "month_activation                    float64\n",
       "date_usage                           object\n",
       "year_usage                          float64\n",
       "month_usage                         float64\n",
       "dtype: object"
      ]
     },
     "execution_count": 136,
     "metadata": {},
     "output_type": "execute_result"
    }
   ],
   "source": [
    "df.dtypes"
   ]
  },
  {
   "cell_type": "code",
   "execution_count": 137,
   "metadata": {},
   "outputs": [],
   "source": [
    "df.to_excel('data/data_clean.xlsx')"
   ]
  }
 ],
 "metadata": {
  "kernelspec": {
   "display_name": "Python 3 (ipykernel)",
   "language": "python",
   "name": "python3"
  },
  "language_info": {
   "codemirror_mode": {
    "name": "ipython",
    "version": 3
   },
   "file_extension": ".py",
   "mimetype": "text/x-python",
   "name": "python",
   "nbconvert_exporter": "python",
   "pygments_lexer": "ipython3",
   "version": "3.10.6"
  },
  "widgets": {
   "application/vnd.jupyter.widget-state+json": {
    "state": {},
    "version_major": 2,
    "version_minor": 0
   }
  }
 },
 "nbformat": 4,
 "nbformat_minor": 4
}
